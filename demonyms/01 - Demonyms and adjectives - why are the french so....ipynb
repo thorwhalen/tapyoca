{
  "cells": [
    {
      "cell_type": "markdown",
      "metadata": {
        "pycharm": {}
      },
      "source": [
        "If you\u0027re like me and enjoy the false and fleeting impression of superiority that comes when you know a word someone else doesn\u0027t. If you\u0027re like me and go to parties for the sole purpose of seeking victims to get a one-up on, here\u0027s a cool word to add to your arsenal:\n",
        "\n",
        "**demonym:** a noun used to denote the natives or inhabitants of a particular country, state, city, etc.\n",
        "_\"he struggled for the correct demonym for the people of Manchester\"_\n",
        "\n",
        "During a discussion (about traveling in Europe) someone said \"why are the swiss so miserable\". Now, I wouldn\u0027t say that the swiss were especially miserable (a couple of ex-girlfriends aside), but to be fair he was contrasting with Italians, so perhaps he has a point. I apologize if you are swiss, or one of the two ex-girlfriends -- nothing personal, this is all for effect. \n",
        "\n",
        "We googled \"why are the swiss so \", and sure enough, \"why are the swiss so miserable\" came up as one of the suggestions. So we got curious and started googling other peoples: the French, the Germans, etc.\n",
        "\n",
        "That\u0027s the back-story of this analysis. This analysis is meant to get an idea of what we think of peoples from other countries. Of course, one can rightfully critique the approach I\u0027ll take to gauge \"what we think\" -- all three of these words should, but will not, be defined. I\u0027m just going to see what google\u0027s *current* auto-suggest comes back with when I enter \"why are the X so \" (where X will be a noun that denotes the natives of inhabitants of a particular country; a *demonym* if you will). \n",
        "\n",
        "Again, word of warning: All data and analyses are biased. Take everything you\u0027ll read here (and to be fair, what you read anywhere) with a grain of salt. For simplicitly I\u0027ll say \"what we think of...\", but I don\u0027t **really** mean that.\n",
        "\n",
        "Resources:\n",
        "\n",
        "* http://www.geography-site.co.uk/pages/countries/demonyms.html for my list of demonyms.\n",
        "* google for my suggestion engine."
      ]
    },
    {
      "cell_type": "code",
      "execution_count": 503,
      "metadata": {
        "ExecuteTime": {
          "end_time": "2020-01-08T01:55:08.560934Z",
          "start_time": "2020-01-08T01:55:08.524294Z"
        },
        "pycharm": {}
      },
      "outputs": [],
      "source": [
        "the_results_are \u003d \"\"\"\n",
        "afghan                         eyes beautiful\n",
        "albanian                            beautiful\n",
        "american                 girl dolls expensive\n",
        "australian                               tall\n",
        "belgian                            fries good\n",
        "bhutanese                               happy\n",
        "brazilian                    good at football\n",
        "british             full of grief and despair\n",
        "bulgarian                    properties cheap\n",
        "burmese                     cats affectionate\n",
        "cambodian                         cows skinny\n",
        "canadian                                 nice\n",
        "chinese                               healthy\n",
        "colombian                        avocados big\n",
        "cuban                             cigars good\n",
        "czech                                    tall\n",
        "dominican        republic and haiti different\n",
        "egyptian                       gods important\n",
        "english                              reserved\n",
        "eritrean                            beautiful\n",
        "ethiopian                           beautiful\n",
        "filipino                                proud\n",
        "finn                          shoes expensive\n",
        "french                                healthy\n",
        "german                                   tall\n",
        "greek                          gods messed up\n",
        "haitian                        parents strict\n",
        "hungarian                          words long\n",
        "indian                     tv debates chaotic\n",
        "indonesian                              smart\n",
        "iranian                             beautiful\n",
        "israeli                   startups successful\n",
        "italian                                 short\n",
        "jamaican                       sprinters fast\n",
        "japanese                               polite\n",
        "kenyan                           runners good\n",
        "lebanese                                 rich\n",
        "malagasy                           names long\n",
        "malaysian                         drivers bad\n",
        "maltese                                  rude\n",
        "mongolian                        horses small\n",
        "moroccan                       rugs expensive\n",
        "nepalese                            beautiful\n",
        "nigerian                                 tall\n",
        "north korean                         hats big\n",
        "norwegian                       flights cheap\n",
        "pakistani                                fair\n",
        "peruvian                      blueberries big\n",
        "pole                             vaulters hot\n",
        "portuguese                              short\n",
        "puerto rican          and cuban flags similar\n",
        "romanian                            beautiful\n",
        "russian                          good at math\n",
        "samoan                                    big\n",
        "saudi                                arrogant\n",
        "scottish                               bitter\n",
        "senegalese                               tall\n",
        "singaporean                              rude\n",
        "somali                         parents strict\n",
        "south african                       plugs big\n",
        "\"\"\";"
      ]
    },
    {
      "cell_type": "markdown",
      "metadata": {
        "ExecuteTime": {
          "end_time": "2020-01-08T01:02:00.277052Z",
          "start_time": "2020-01-08T01:02:00.214539Z"
        },
        "pycharm": {}
      },
      "source": [
        "A few notes:\n",
        "* It\u0027s not \"what we think\", but what google auto-suggest yields, now, from my IP, with my browser, etc.\n",
        "* Here I\u0027m showing only the first item of the results I got -- some demonyms (look it up) yield 20 results (for swiss, singaporean, british, french, and german namely -- the most \"talked about\" peoples), and others only 1.\n",
        "* Well, in fact, some yield 0 results, and those are not shown in the list of 72 demonyms here.\n",
        "* Depending on how exactly you structure your query, you\u0027ll get different results. Here I used \"why are the X so \" (\"not why are Xs so\", or \"why are the X\", etc.)\n",
        "* You\u0027ll notice that not all the results are characteristics of people of a nation (example pole: vaulters hot\")"
      ]
    },
    {
      "cell_type": "code",
      "execution_count": null,
      "metadata": {
        "pycharm": {}
      },
      "outputs": [],
      "source": []
    },
    {
      "cell_type": "code",
      "execution_count": 546,
      "metadata": {
        "ExecuteTime": {
          "end_time": "2020-01-08T17:22:17.245531Z",
          "start_time": "2020-01-08T17:22:17.211459Z"
        },
        "pycharm": {}
      },
      "outputs": [],
      "source": "import os\nimport re\nfrom collections import Counter\nimport pandas as pd\nimport random\n"
    },
    {
      "cell_type": "markdown",
      "metadata": {
        "pycharm": {}
      },
      "source": [
        "# Analysis"
      ]
    },
    {
      "cell_type": "markdown",
      "metadata": {
        "pycharm": {}
      },
      "source": [
        "## Data source (after acquisition)"
      ]
    },
    {
      "cell_type": "code",
      "execution_count": null,
      "metadata": {
        "pycharm": {}
      },
      "outputs": [],
      "source": [
        "# from tapyoca.demonyms.data_acquisition import suggestions_df\n",
        "# sdff \u003d suggestions_df()"
      ]
    },
    {
      "cell_type": "code",
      "execution_count": 562,
      "metadata": {
        "ExecuteTime": {
          "end_time": "2020-01-08T17:36:31.440854Z",
          "start_time": "2020-01-08T17:36:31.409733Z"
        },
        "pycharm": {}
      },
      "outputs": [],
      "source": [
        "# sdff \u003d pd.read_pickle(\u0027demonym_suggested_characteristics.p\u0027)"
      ]
    },
    {
      "cell_type": "code",
      "execution_count": 518,
      "metadata": {
        "ExecuteTime": {
          "end_time": "2020-01-08T17:11:33.131802Z",
          "start_time": "2020-01-08T17:11:32.905783Z"
        },
        "pycharm": {}
      },
      "outputs": [
        {
          "name": "stdout",
          "output_type": "stream",
          "text": [
            "215\n",
            "(678, 3)\n",
            "(523, 4)\n"
          ]
        },
        {
          "data": {
            "text/html": [
              "\u003cdiv\u003e\n",
              "\u003cstyle scoped\u003e\n",
              "    .dataframe tbody tr th:only-of-type {\n",
              "        vertical-align: middle;\n",
              "    }\n",
              "\n",
              "    .dataframe tbody tr th {\n",
              "        vertical-align: top;\n",
              "    }\n",
              "\n",
              "    .dataframe thead th {\n",
              "        text-align: right;\n",
              "    }\n",
              "\u003c/style\u003e\n",
              "\u003ctable border\u003d\"1\" class\u003d\"dataframe\"\u003e\n",
              "  \u003cthead\u003e\n",
              "    \u003ctr style\u003d\"text-align: right;\"\u003e\n",
              "      \u003cth\u003e\u003c/th\u003e\n",
              "      \u003cth\u003edemonym\u003c/th\u003e\n",
              "      \u003cth\u003esuggestion\u003c/th\u003e\n",
              "      \u003cth\u003erelevance\u003c/th\u003e\n",
              "      \u003cth\u003echaracteristic\u003c/th\u003e\n",
              "    \u003c/tr\u003e\n",
              "  \u003c/thead\u003e\n",
              "  \u003ctbody\u003e\n",
              "    \u003ctr\u003e\n",
              "      \u003cth\u003e0\u003c/th\u003e\n",
              "      \u003ctd\u003eafghan\u003c/td\u003e\n",
              "      \u003ctd\u003ewhy are afghan eyes so beautiful\u003c/td\u003e\n",
              "      \u003ctd\u003e601\u003c/td\u003e\n",
              "      \u003ctd\u003eeyes beautiful\u003c/td\u003e\n",
              "    \u003c/tr\u003e\n",
              "    \u003ctr\u003e\n",
              "      \u003cth\u003e1\u003c/th\u003e\n",
              "      \u003ctd\u003eafghan\u003c/td\u003e\n",
              "      \u003ctd\u003ewhy are afghan biscuits so called\u003c/td\u003e\n",
              "      \u003ctd\u003e600\u003c/td\u003e\n",
              "      \u003ctd\u003ebiscuits called\u003c/td\u003e\n",
              "    \u003c/tr\u003e\n",
              "    \u003ctr\u003e\n",
              "      \u003cth\u003e2\u003c/th\u003e\n",
              "      \u003ctd\u003eafghan\u003c/td\u003e\n",
              "      \u003ctd\u003ewhy are afghan blankets so warm\u003c/td\u003e\n",
              "      \u003ctd\u003e552\u003c/td\u003e\n",
              "      \u003ctd\u003eblankets warm\u003c/td\u003e\n",
              "    \u003c/tr\u003e\n",
              "    \u003ctr\u003e\n",
              "      \u003cth\u003e3\u003c/th\u003e\n",
              "      \u003ctd\u003eafghan\u003c/td\u003e\n",
              "      \u003ctd\u003ewhy are afghan rugs so expensive\u003c/td\u003e\n",
              "      \u003ctd\u003e551\u003c/td\u003e\n",
              "      \u003ctd\u003erugs expensive\u003c/td\u003e\n",
              "    \u003c/tr\u003e\n",
              "    \u003ctr\u003e\n",
              "      \u003cth\u003e4\u003c/th\u003e\n",
              "      \u003ctd\u003eafghan\u003c/td\u003e\n",
              "      \u003ctd\u003ewhy afghanistan so poor\u003c/td\u003e\n",
              "      \u003ctd\u003e550\u003c/td\u003e\n",
              "      \u003ctd\u003eistan poor\u003c/td\u003e\n",
              "    \u003c/tr\u003e\n",
              "    \u003ctr\u003e\n",
              "      \u003cth\u003e...\u003c/th\u003e\n",
              "      \u003ctd\u003e...\u003c/td\u003e\n",
              "      \u003ctd\u003e...\u003c/td\u003e\n",
              "      \u003ctd\u003e...\u003c/td\u003e\n",
              "      \u003ctd\u003e...\u003c/td\u003e\n",
              "    \u003c/tr\u003e\n",
              "    \u003ctr\u003e\n",
              "      \u003cth\u003e518\u003c/th\u003e\n",
              "      \u003ctd\u003ewelsh\u003c/td\u003e\n",
              "      \u003ctd\u003ewhy are welsh words so long\u003c/td\u003e\n",
              "      \u003ctd\u003e553\u003c/td\u003e\n",
              "      \u003ctd\u003ewords long\u003c/td\u003e\n",
              "    \u003c/tr\u003e\n",
              "    \u003ctr\u003e\n",
              "      \u003cth\u003e519\u003c/th\u003e\n",
              "      \u003ctd\u003ewelsh\u003c/td\u003e\n",
              "      \u003ctd\u003ewhy are welsh names so long\u003c/td\u003e\n",
              "      \u003ctd\u003e552\u003c/td\u003e\n",
              "      \u003ctd\u003enames long\u003c/td\u003e\n",
              "    \u003c/tr\u003e\n",
              "    \u003ctr\u003e\n",
              "      \u003cth\u003e520\u003c/th\u003e\n",
              "      \u003ctd\u003ewelsh\u003c/td\u003e\n",
              "      \u003ctd\u003ewhy are welsh hats so tall\u003c/td\u003e\n",
              "      \u003ctd\u003e551\u003c/td\u003e\n",
              "      \u003ctd\u003ehats tall\u003c/td\u003e\n",
              "    \u003c/tr\u003e\n",
              "    \u003ctr\u003e\n",
              "      \u003cth\u003e521\u003c/th\u003e\n",
              "      \u003ctd\u003ewelsh\u003c/td\u003e\n",
              "      \u003ctd\u003ewhy are welsh corgis so expensive\u003c/td\u003e\n",
              "      \u003ctd\u003e550\u003c/td\u003e\n",
              "      \u003ctd\u003ecorgis expensive\u003c/td\u003e\n",
              "    \u003c/tr\u003e\n",
              "    \u003ctr\u003e\n",
              "      \u003cth\u003e522\u003c/th\u003e\n",
              "      \u003ctd\u003ezambian\u003c/td\u003e\n",
              "      \u003ctd\u003ewhy are zambian emeralds so cheap\u003c/td\u003e\n",
              "      \u003ctd\u003e600\u003c/td\u003e\n",
              "      \u003ctd\u003eemeralds cheap\u003c/td\u003e\n",
              "    \u003c/tr\u003e\n",
              "  \u003c/tbody\u003e\n",
              "\u003c/table\u003e\n",
              "\u003cp\u003e523 rows × 4 columns\u003c/p\u003e\n",
              "\u003c/div\u003e"
            ],
            "text/plain": [
              "     demonym                         suggestion  relevance    characteristic\n",
              "0     afghan   why are afghan eyes so beautiful        601    eyes beautiful\n",
              "1     afghan  why are afghan biscuits so called        600   biscuits called\n",
              "2     afghan    why are afghan blankets so warm        552     blankets warm\n",
              "3     afghan   why are afghan rugs so expensive        551    rugs expensive\n",
              "4     afghan            why afghanistan so poor        550        istan poor\n",
              "..       ...                                ...        ...               ...\n",
              "518    welsh        why are welsh words so long        553        words long\n",
              "519    welsh        why are welsh names so long        552        names long\n",
              "520    welsh         why are welsh hats so tall        551         hats tall\n",
              "521    welsh  why are welsh corgis so expensive        550  corgis expensive\n",
              "522  zambian  why are zambian emeralds so cheap        600    emeralds cheap\n",
              "\n",
              "[523 rows x 4 columns]"
            ]
          },
          "execution_count": 518,
          "metadata": {},
          "output_type": "execute_result"
        }
      ],
      "source": [
        "import os\n",
        "import re\n",
        "from py2store import *\n",
        "from collections import Counter\n",
        "import pandas as pd\n",
        "\n",
        "root \u003d os.path.expanduser(\u0027~/ddir/demonym_adjectives/so\u0027)\n",
        "s \u003d QuickJsonStore(root)\n",
        "print(len(s))\n",
        "\n",
        "sdf \u003d list()\n",
        "for demonym, r in s.items():\n",
        "    suggestions \u003d r[1]\n",
        "    if len(suggestions) \u003e 0:\n",
        "        relevances \u003d r[-1].get(\u0027google:suggestrelevance\u0027, [])\n",
        "        assert len(suggestions) \u003d\u003d len(relevances)\n",
        "        sdf.extend([{\u0027demonym\u0027: demonym, \u0027suggestion\u0027: t, \u0027relevance\u0027: tt} for t, tt in zip(suggestions, relevances)])\n",
        "sdf \u003d pd.DataFrame(sdf)\n",
        "sdf[\u0027demonym\u0027] \u003d list(map(str.lower, sdf[\u0027demonym\u0027]))\n",
        "print(sdf.shape)\n",
        "sdf\n",
        "\n",
        "\n",
        "prefix_templates_1 \u003d \u0027why are the {demonym}\u0027\n",
        "prefix_templates_2 \u003d \u0027why are the {demonym}|why are {demonym}\u0027\n",
        "prefix_templates_3 \u003d \u0027why are the {demonym}|why are {demonym}|why {demonym}\u0027\n",
        "\n",
        "def remove_query_prefix(demonym, query, prefix_template\u003dprefix_templates_3):\n",
        "    demonym \u003d demonym.lower()\n",
        "    t \u003d re.sub(prefix_template.format(demonym\u003ddemonym), \u0027\u0027, query)\n",
        "    return t\n",
        "\n",
        "sdf[\u0027characteristic\u0027] \u003d list(map(lambda x: remove_query_prefix(*x), zip(sdf.demonym, sdf.suggestion)))\n",
        "lidx \u003d list(map(lambda x: x[0] !\u003d x[1], zip(sdf.characteristic, sdf.suggestion)))\n",
        "sdff \u003d sdf.iloc[lidx].reset_index(drop\u003dTrue)\n",
        "print(sdff.shape)\n",
        "\n",
        "so_p \u003d re.compile(\u0027so\\ \u0027)\n",
        "\n",
        "def post_process_characteristics(t):\n",
        "    t \u003d t.strip()\n",
        "    if t.startswith(\u0027s \u0027):\n",
        "        t \u003d t[len(\u0027s \u0027):]\n",
        "    t \u003d so_p.sub(\u0027\u0027, t)\n",
        "    return t\n",
        "    \n",
        "sdff[\u0027characteristic\u0027] \u003d [post_process_characteristics(t) for t in sdff[\u0027characteristic\u0027]]\n",
        "sdff \u003d sdff.sort_values(by\u003d[\u0027demonym\u0027, \u0027relevance\u0027], ascending\u003d[True, False]).reset_index(drop\u003dTrue)\n",
        "\n",
        "# sdff.to_pickle(\u0027demonym_suggested_characteristics.p\u0027)\n",
        "sdff"
      ]
    },
    {
      "cell_type": "code",
      "execution_count": 519,
      "metadata": {
        "ExecuteTime": {
          "end_time": "2020-01-08T17:11:36.481353Z",
          "start_time": "2020-01-08T17:11:36.446193Z"
        },
        "pycharm": {}
      },
      "outputs": [
        {
          "data": {
            "text/html": [
              "\u003cdiv\u003e\n",
              "\u003cstyle scoped\u003e\n",
              "    .dataframe tbody tr th:only-of-type {\n",
              "        vertical-align: middle;\n",
              "    }\n",
              "\n",
              "    .dataframe tbody tr th {\n",
              "        vertical-align: top;\n",
              "    }\n",
              "\n",
              "    .dataframe thead th {\n",
              "        text-align: right;\n",
              "    }\n",
              "\u003c/style\u003e\n",
              "\u003ctable border\u003d\"1\" class\u003d\"dataframe\"\u003e\n",
              "  \u003cthead\u003e\n",
              "    \u003ctr style\u003d\"text-align: right;\"\u003e\n",
              "      \u003cth\u003e\u003c/th\u003e\n",
              "      \u003cth\u003edemonym\u003c/th\u003e\n",
              "      \u003cth\u003esuggestion\u003c/th\u003e\n",
              "      \u003cth\u003erelevance\u003c/th\u003e\n",
              "      \u003cth\u003echaracteristic\u003c/th\u003e\n",
              "    \u003c/tr\u003e\n",
              "  \u003c/thead\u003e\n",
              "  \u003ctbody\u003e\n",
              "    \u003ctr\u003e\n",
              "      \u003cth\u003e253\u003c/th\u003e\n",
              "      \u003ctd\u003eisraeli\u003c/td\u003e\n",
              "      \u003ctd\u003ewhy are israeli startups so successful\u003c/td\u003e\n",
              "      \u003ctd\u003e600\u003c/td\u003e\n",
              "      \u003ctd\u003estartups successful\u003c/td\u003e\n",
              "    \u003c/tr\u003e\n",
              "    \u003ctr\u003e\n",
              "      \u003cth\u003e254\u003c/th\u003e\n",
              "      \u003ctd\u003eisraeli\u003c/td\u003e\n",
              "      \u003ctd\u003ewhy are israeli helmets so big\u003c/td\u003e\n",
              "      \u003ctd\u003e551\u003c/td\u003e\n",
              "      \u003ctd\u003ehelmets big\u003c/td\u003e\n",
              "    \u003c/tr\u003e\n",
              "  \u003c/tbody\u003e\n",
              "\u003c/table\u003e\n",
              "\u003c/div\u003e"
            ],
            "text/plain": [
              "     demonym                              suggestion  relevance  \\\n",
              "253  israeli  why are israeli startups so successful        600   \n",
              "254  israeli          why are israeli helmets so big        551   \n",
              "\n",
              "          characteristic  \n",
              "253  startups successful  \n",
              "254          helmets big  "
            ]
          },
          "execution_count": 519,
          "metadata": {},
          "output_type": "execute_result"
        }
      ],
      "source": [
        "sdff[sdff[\u0027demonym\u0027] \u003d\u003d \u0027israeli\u0027]  # Note that the \"so\" of the query was misunterpreted as the suffix of a word"
      ]
    },
    {
      "cell_type": "code",
      "execution_count": 520,
      "metadata": {
        "ExecuteTime": {
          "end_time": "2020-01-08T17:11:37.558913Z",
          "start_time": "2020-01-08T17:11:37.522187Z"
        },
        "pycharm": {}
      },
      "outputs": [
        {
          "data": {
            "text/html": [
              "\u003cdiv\u003e\n",
              "\u003cstyle scoped\u003e\n",
              "    .dataframe tbody tr th:only-of-type {\n",
              "        vertical-align: middle;\n",
              "    }\n",
              "\n",
              "    .dataframe tbody tr th {\n",
              "        vertical-align: top;\n",
              "    }\n",
              "\n",
              "    .dataframe thead th {\n",
              "        text-align: right;\n",
              "    }\n",
              "\u003c/style\u003e\n",
              "\u003ctable border\u003d\"1\" class\u003d\"dataframe\"\u003e\n",
              "  \u003cthead\u003e\n",
              "    \u003ctr style\u003d\"text-align: right;\"\u003e\n",
              "      \u003cth\u003e\u003c/th\u003e\n",
              "      \u003cth\u003edemonym\u003c/th\u003e\n",
              "      \u003cth\u003esuggestion\u003c/th\u003e\n",
              "      \u003cth\u003erelevance\u003c/th\u003e\n",
              "      \u003cth\u003echaracteristic\u003c/th\u003e\n",
              "    \u003c/tr\u003e\n",
              "  \u003c/thead\u003e\n",
              "  \u003ctbody\u003e\n",
              "    \u003ctr\u003e\n",
              "      \u003cth\u003e446\u003c/th\u003e\n",
              "      \u003ctd\u003eswiss\u003c/td\u003e\n",
              "      \u003ctd\u003ewhy are the swiss so good at making watches\u003c/td\u003e\n",
              "      \u003ctd\u003e601\u003c/td\u003e\n",
              "      \u003ctd\u003egood at making watches\u003c/td\u003e\n",
              "    \u003c/tr\u003e\n",
              "    \u003ctr\u003e\n",
              "      \u003cth\u003e447\u003c/th\u003e\n",
              "      \u003ctd\u003eswiss\u003c/td\u003e\n",
              "      \u003ctd\u003ewhy are the swiss so healthy\u003c/td\u003e\n",
              "      \u003ctd\u003e600\u003c/td\u003e\n",
              "      \u003ctd\u003ehealthy\u003c/td\u003e\n",
              "    \u003c/tr\u003e\n",
              "    \u003ctr\u003e\n",
              "      \u003cth\u003e448\u003c/th\u003e\n",
              "      \u003ctd\u003eswiss\u003c/td\u003e\n",
              "      \u003ctd\u003ewhy are the swiss so miserable\u003c/td\u003e\n",
              "      \u003ctd\u003e567\u003c/td\u003e\n",
              "      \u003ctd\u003emiserable\u003c/td\u003e\n",
              "    \u003c/tr\u003e\n",
              "    \u003ctr\u003e\n",
              "      \u003cth\u003e449\u003c/th\u003e\n",
              "      \u003ctd\u003eswiss\u003c/td\u003e\n",
              "      \u003ctd\u003ewhy are the swiss so happy\u003c/td\u003e\n",
              "      \u003ctd\u003e566\u003c/td\u003e\n",
              "      \u003ctd\u003ehappy\u003c/td\u003e\n",
              "    \u003c/tr\u003e\n",
              "    \u003ctr\u003e\n",
              "      \u003cth\u003e450\u003c/th\u003e\n",
              "      \u003ctd\u003eswiss\u003c/td\u003e\n",
              "      \u003ctd\u003ewhy are the swiss so boring\u003c/td\u003e\n",
              "      \u003ctd\u003e565\u003c/td\u003e\n",
              "      \u003ctd\u003eboring\u003c/td\u003e\n",
              "    \u003c/tr\u003e\n",
              "    \u003ctr\u003e\n",
              "      \u003cth\u003e451\u003c/th\u003e\n",
              "      \u003ctd\u003eswiss\u003c/td\u003e\n",
              "      \u003ctd\u003ewhy are the swiss so good at making chocolate\u003c/td\u003e\n",
              "      \u003ctd\u003e564\u003c/td\u003e\n",
              "      \u003ctd\u003egood at making chocolate\u003c/td\u003e\n",
              "    \u003c/tr\u003e\n",
              "    \u003ctr\u003e\n",
              "      \u003cth\u003e452\u003c/th\u003e\n",
              "      \u003ctd\u003eswiss\u003c/td\u003e\n",
              "      \u003ctd\u003ewhy are the swiss so thin\u003c/td\u003e\n",
              "      \u003ctd\u003e563\u003c/td\u003e\n",
              "      \u003ctd\u003ethin\u003c/td\u003e\n",
              "    \u003c/tr\u003e\n",
              "    \u003ctr\u003e\n",
              "      \u003cth\u003e453\u003c/th\u003e\n",
              "      \u003ctd\u003eswiss\u003c/td\u003e\n",
              "      \u003ctd\u003ewhy are the swiss so neutral\u003c/td\u003e\n",
              "      \u003ctd\u003e562\u003c/td\u003e\n",
              "      \u003ctd\u003eneutral\u003c/td\u003e\n",
              "    \u003c/tr\u003e\n",
              "    \u003ctr\u003e\n",
              "      \u003cth\u003e454\u003c/th\u003e\n",
              "      \u003ctd\u003eswiss\u003c/td\u003e\n",
              "      \u003ctd\u003ewhy are the swiss so precise\u003c/td\u003e\n",
              "      \u003ctd\u003e561\u003c/td\u003e\n",
              "      \u003ctd\u003eprecise\u003c/td\u003e\n",
              "    \u003c/tr\u003e\n",
              "    \u003ctr\u003e\n",
              "      \u003cth\u003e455\u003c/th\u003e\n",
              "      \u003ctd\u003eswiss\u003c/td\u003e\n",
              "      \u003ctd\u003ewhy are the swiss so efficient\u003c/td\u003e\n",
              "      \u003ctd\u003e560\u003c/td\u003e\n",
              "      \u003ctd\u003eefficient\u003c/td\u003e\n",
              "    \u003c/tr\u003e\n",
              "    \u003ctr\u003e\n",
              "      \u003cth\u003e456\u003c/th\u003e\n",
              "      \u003ctd\u003eswiss\u003c/td\u003e\n",
              "      \u003ctd\u003ewhy are the swiss so successful\u003c/td\u003e\n",
              "      \u003ctd\u003e559\u003c/td\u003e\n",
              "      \u003ctd\u003esuccessful\u003c/td\u003e\n",
              "    \u003c/tr\u003e\n",
              "    \u003ctr\u003e\n",
              "      \u003cth\u003e457\u003c/th\u003e\n",
              "      \u003ctd\u003eswiss\u003c/td\u003e\n",
              "      \u003ctd\u003ewhy are the swiss so cold\u003c/td\u003e\n",
              "      \u003ctd\u003e558\u003c/td\u003e\n",
              "      \u003ctd\u003ecold\u003c/td\u003e\n",
              "    \u003c/tr\u003e\n",
              "    \u003ctr\u003e\n",
              "      \u003cth\u003e458\u003c/th\u003e\n",
              "      \u003ctd\u003eswiss\u003c/td\u003e\n",
              "      \u003ctd\u003ewhy are the swiss so clean\u003c/td\u003e\n",
              "      \u003ctd\u003e557\u003c/td\u003e\n",
              "      \u003ctd\u003eclean\u003c/td\u003e\n",
              "    \u003c/tr\u003e\n",
              "    \u003ctr\u003e\n",
              "      \u003cth\u003e459\u003c/th\u003e\n",
              "      \u003ctd\u003eswiss\u003c/td\u003e\n",
              "      \u003ctd\u003ewhy are the swiss so uptight\u003c/td\u003e\n",
              "      \u003ctd\u003e556\u003c/td\u003e\n",
              "      \u003ctd\u003euptight\u003c/td\u003e\n",
              "    \u003c/tr\u003e\n",
              "    \u003ctr\u003e\n",
              "      \u003cth\u003e460\u003c/th\u003e\n",
              "      \u003ctd\u003eswiss\u003c/td\u003e\n",
              "      \u003ctd\u003ewhy are the swiss so\u003c/td\u003e\n",
              "      \u003ctd\u003e555\u003c/td\u003e\n",
              "      \u003ctd\u003eso\u003c/td\u003e\n",
              "    \u003c/tr\u003e\n",
              "    \u003ctr\u003e\n",
              "      \u003cth\u003e461\u003c/th\u003e\n",
              "      \u003ctd\u003eswiss\u003c/td\u003e\n",
              "      \u003ctd\u003ewhy are the swiss so productive\u003c/td\u003e\n",
              "      \u003ctd\u003e554\u003c/td\u003e\n",
              "      \u003ctd\u003eproductive\u003c/td\u003e\n",
              "    \u003c/tr\u003e\n",
              "    \u003ctr\u003e\n",
              "      \u003cth\u003e462\u003c/th\u003e\n",
              "      \u003ctd\u003eswiss\u003c/td\u003e\n",
              "      \u003ctd\u003ewhy are the swiss guard so called\u003c/td\u003e\n",
              "      \u003ctd\u003e553\u003c/td\u003e\n",
              "      \u003ctd\u003eguard called\u003c/td\u003e\n",
              "    \u003c/tr\u003e\n",
              "    \u003ctr\u003e\n",
              "      \u003cth\u003e463\u003c/th\u003e\n",
              "      \u003ctd\u003eswiss\u003c/td\u003e\n",
              "      \u003ctd\u003ewhy are swiss so reserved\u003c/td\u003e\n",
              "      \u003ctd\u003e552\u003c/td\u003e\n",
              "      \u003ctd\u003ereserved\u003c/td\u003e\n",
              "    \u003c/tr\u003e\n",
              "    \u003ctr\u003e\n",
              "      \u003cth\u003e464\u003c/th\u003e\n",
              "      \u003ctd\u003eswiss\u003c/td\u003e\n",
              "      \u003ctd\u003ewhy are swiss so punctual\u003c/td\u003e\n",
              "      \u003ctd\u003e551\u003c/td\u003e\n",
              "      \u003ctd\u003epunctual\u003c/td\u003e\n",
              "    \u003c/tr\u003e\n",
              "    \u003ctr\u003e\n",
              "      \u003cth\u003e465\u003c/th\u003e\n",
              "      \u003ctd\u003eswiss\u003c/td\u003e\n",
              "      \u003ctd\u003ewhy are swiss so grumpy\u003c/td\u003e\n",
              "      \u003ctd\u003e550\u003c/td\u003e\n",
              "      \u003ctd\u003egrumpy\u003c/td\u003e\n",
              "    \u003c/tr\u003e\n",
              "  \u003c/tbody\u003e\n",
              "\u003c/table\u003e\n",
              "\u003c/div\u003e"
            ],
            "text/plain": [
              "    demonym                                     suggestion  relevance  \\\n",
              "446   swiss    why are the swiss so good at making watches        601   \n",
              "447   swiss                   why are the swiss so healthy        600   \n",
              "448   swiss                 why are the swiss so miserable        567   \n",
              "449   swiss                     why are the swiss so happy        566   \n",
              "450   swiss                    why are the swiss so boring        565   \n",
              "451   swiss  why are the swiss so good at making chocolate        564   \n",
              "452   swiss                      why are the swiss so thin        563   \n",
              "453   swiss                   why are the swiss so neutral        562   \n",
              "454   swiss                   why are the swiss so precise        561   \n",
              "455   swiss                 why are the swiss so efficient        560   \n",
              "456   swiss                why are the swiss so successful        559   \n",
              "457   swiss                      why are the swiss so cold        558   \n",
              "458   swiss                     why are the swiss so clean        557   \n",
              "459   swiss                   why are the swiss so uptight        556   \n",
              "460   swiss                           why are the swiss so        555   \n",
              "461   swiss                why are the swiss so productive        554   \n",
              "462   swiss              why are the swiss guard so called        553   \n",
              "463   swiss                      why are swiss so reserved        552   \n",
              "464   swiss                      why are swiss so punctual        551   \n",
              "465   swiss                        why are swiss so grumpy        550   \n",
              "\n",
              "               characteristic  \n",
              "446    good at making watches  \n",
              "447                   healthy  \n",
              "448                 miserable  \n",
              "449                     happy  \n",
              "450                    boring  \n",
              "451  good at making chocolate  \n",
              "452                      thin  \n",
              "453                   neutral  \n",
              "454                   precise  \n",
              "455                 efficient  \n",
              "456                successful  \n",
              "457                      cold  \n",
              "458                     clean  \n",
              "459                   uptight  \n",
              "460                        so  \n",
              "461                productive  \n",
              "462              guard called  \n",
              "463                  reserved  \n",
              "464                  punctual  \n",
              "465                    grumpy  "
            ]
          },
          "execution_count": 520,
          "metadata": {},
          "output_type": "execute_result"
        }
      ],
      "source": [
        "sdff[sdff[\u0027demonym\u0027] \u003d\u003d \u0027swiss\u0027]"
      ]
    },
    {
      "cell_type": "markdown",
      "metadata": {
        "pycharm": {}
      },
      "source": [
        "## Analyses"
      ]
    },
    {
      "cell_type": "code",
      "execution_count": 555,
      "metadata": {
        "ExecuteTime": {
          "end_time": "2020-01-08T17:26:09.020156Z",
          "start_time": "2020-01-08T17:26:08.989280Z"
        },
        "pycharm": {}
      },
      "outputs": [
        {
          "name": "stdout",
          "output_type": "stream",
          "text": [
            "[\u0027afghan\u0027, \u0027albanian\u0027, \u0027american\u0027, \u0027australian\u0027, \u0027belgian\u0027, \u0027bhutanese\u0027, \u0027brazilian\u0027, \u0027british\u0027, \u0027bulgarian\u0027, \u0027burmese\u0027, \u0027cambodian\u0027, \u0027canadian\u0027, \u0027chinese\u0027, \u0027colombian\u0027, \u0027cuban\u0027, \u0027czech\u0027, \u0027dominican\u0027, \u0027egyptian\u0027, \u0027english\u0027, \u0027eritrean\u0027, \u0027ethiopian\u0027, \u0027filipino\u0027, \u0027finn\u0027, \u0027french\u0027, \u0027german\u0027, \u0027greek\u0027, \u0027haitian\u0027, \u0027hungarian\u0027, \u0027indian\u0027, \u0027indonesian\u0027, \u0027iranian\u0027, \u0027israeli\u0027, \u0027italian\u0027, \u0027jamaican\u0027, \u0027japanese\u0027, \u0027kenyan\u0027, \u0027lebanese\u0027, \u0027malagasy\u0027, \u0027malaysian\u0027, \u0027maltese\u0027, \u0027mongolian\u0027, \u0027moroccan\u0027, \u0027nepalese\u0027, \u0027nigerian\u0027, \u0027north korean\u0027, \u0027norwegian\u0027, \u0027pakistani\u0027, \u0027peruvian\u0027, \u0027pole\u0027, \u0027portuguese\u0027, \u0027puerto rican\u0027, \u0027romanian\u0027, \u0027russian\u0027, \u0027samoan\u0027, \u0027saudi\u0027, \u0027scottish\u0027, \u0027senegalese\u0027, \u0027serbian\u0027, \u0027singaporean\u0027, \u0027somali\u0027, \u0027south african\u0027, \u0027south korean\u0027, \u0027sri lankan\u0027, \u0027sudanese\u0027, \u0027swiss\u0027, \u0027syrian\u0027, \u0027taiwanese\u0027, \u0027thai\u0027, \u0027tongan\u0027, \u0027ukrainian\u0027, \u0027vietnamese\u0027, \u0027welsh\u0027, \u0027zambian\u0027]\n"
          ]
        }
      ],
      "source": [
        "print(sdff.demonym.unique().tolist())"
      ]
    },
    {
      "cell_type": "markdown",
      "metadata": {
        "pycharm": {}
      },
      "source": [
        "### Prep to save stuff"
      ]
    },
    {
      "cell_type": "code",
      "execution_count": 521,
      "metadata": {
        "ExecuteTime": {
          "end_time": "2020-01-08T17:11:48.424339Z",
          "start_time": "2020-01-08T17:11:48.393113Z"
        },
        "pycharm": {}
      },
      "outputs": [],
      "source": [
        "xls_file \u003d \u0027what_we_think_about_demonyns.xlsx\u0027\n",
        "xls_writer \u003d pd.ExcelWriter(xls_file, engine\u003d\u0027xlsxwriter\u0027)\n",
        "\n",
        "def save_to_xls(df, sheet_name):\n",
        "    df.to_excel(xls_writer, sheet_name\u003dsheet_name, index\u003dFalse)\n",
        "#     xls_writer.save()\n",
        "    \n",
        "def write_sr_to_sheet(sr, index_name\u003d\u0027demonym\u0027, val_name\u003d\u0027count\u0027, sheet_name\u003dNone):\n",
        "    sr.index.name \u003d index_name\n",
        "    sr.name \u003d val_name\n",
        "    sheet_name \u003d sheet_name or f\"{index_name}_{val_name}\"\n",
        "    sr.reset_index().to_excel(xls_writer, sheet_name\u003dsheet_name, index\u003dFalse)"
      ]
    },
    {
      "cell_type": "markdown",
      "metadata": {
        "pycharm": {}
      },
      "source": [
        "### Save the source data"
      ]
    },
    {
      "cell_type": "code",
      "execution_count": 522,
      "metadata": {
        "ExecuteTime": {
          "end_time": "2020-01-08T17:11:49.341363Z",
          "start_time": "2020-01-08T17:11:49.288004Z"
        },
        "pycharm": {}
      },
      "outputs": [],
      "source": [
        "save_to_xls(sdff, sheet_name\u003d\u0027all\u0027)"
      ]
    },
    {
      "cell_type": "markdown",
      "metadata": {
        "pycharm": {}
      },
      "source": [
        "### Demonyms covered"
      ]
    },
    {
      "cell_type": "code",
      "execution_count": 523,
      "metadata": {
        "ExecuteTime": {
          "end_time": "2020-01-08T17:11:50.319908Z",
          "start_time": "2020-01-08T17:11:50.284430Z"
        },
        "pycharm": {}
      },
      "outputs": [
        {
          "name": "stdout",
          "output_type": "stream",
          "text": [
            "73 \u0027demonyms\u0027 covered\n"
          ]
        }
      ],
      "source": [
        "demonym_count \u003d pd.Series(Counter(sdff.demonym)).sort_values(ascending\u003dFalse)\n",
        "write_sr_to_sheet(demonym_count, index_name\u003d\u0027demonym\u0027, val_name\u003d\u0027count\u0027)\n",
        "print(f\"{len(demonym_count)} \u0027demonyms\u0027 covered\")"
      ]
    },
    {
      "cell_type": "code",
      "execution_count": 526,
      "metadata": {
        "ExecuteTime": {
          "end_time": "2020-01-08T17:12:08.764995Z",
          "start_time": "2020-01-08T17:12:08.732197Z"
        },
        "pycharm": {}
      },
      "outputs": [
        {
          "name": "stdout",
          "output_type": "stream",
          "text": [
            "Those that people we most talk about:\n"
          ]
        },
        {
          "data": {
            "text/plain": [
              "demonym\n",
              "french         20\n",
              "singaporean    20\n",
              "german         20\n",
              "british        20\n",
              "swiss          20\n",
              "english        19\n",
              "italian        18\n",
              "cuban          18\n",
              "canadian       18\n",
              "welsh          18\n",
              "australian     17\n",
              "maltese        16\n",
              "american       16\n",
              "japanese       14\n",
              "scottish       14\n",
              "belgian        13\n",
              "Name: count, dtype: int64"
            ]
          },
          "execution_count": 526,
          "metadata": {},
          "output_type": "execute_result"
        }
      ],
      "source": [
        "print(\"Those that people we most talk about:\")\n",
        "demonym_count.head((16))"
      ]
    },
    {
      "cell_type": "code",
      "execution_count": 528,
      "metadata": {
        "ExecuteTime": {
          "end_time": "2020-01-08T17:13:02.847700Z",
          "start_time": "2020-01-08T17:13:02.812301Z"
        },
        "pycharm": {}
      },
      "outputs": [
        {
          "name": "stdout",
          "output_type": "stream",
          "text": [
            "Those 19 demonyms that people don\u0027t inquire much\n"
          ]
        },
        {
          "data": {
            "text/plain": [
              "demonym\n",
              "somali          1\n",
              "bhutanese       1\n",
              "syrian          1\n",
              "tongan          1\n",
              "cambodian       1\n",
              "malagasy        1\n",
              "saudi           1\n",
              "serbian         1\n",
              "czech           1\n",
              "eritrean        1\n",
              "finn            1\n",
              "puerto rican    1\n",
              "pole            1\n",
              "haitian         1\n",
              "hungarian       1\n",
              "peruvian        1\n",
              "moroccan        1\n",
              "mongolian       1\n",
              "zambian         1\n",
              "Name: count, dtype: int64"
            ]
          },
          "execution_count": 528,
          "metadata": {},
          "output_type": "execute_result"
        }
      ],
      "source": [
        "t \u003d len(demonym_count[demonym_count \u003d\u003d 1])\n",
        "print(f\"Those {t} demonyms that people don\u0027t inquire much\")\n",
        "demonym_count[demonym_count \u003d\u003d 1]"
      ]
    },
    {
      "cell_type": "markdown",
      "metadata": {
        "pycharm": {}
      },
      "source": [
        "### Characteristics"
      ]
    },
    {
      "cell_type": "markdown",
      "metadata": {
        "pycharm": {}
      },
      "source": [
        "How do people perceive others in the world? \n",
        "\n",
        "More precisely, what are the words they use to describe them?"
      ]
    },
    {
      "cell_type": "code",
      "execution_count": 529,
      "metadata": {
        "ExecuteTime": {
          "end_time": "2020-01-08T17:13:54.832382Z",
          "start_time": "2020-01-08T17:13:54.790257Z"
        },
        "pycharm": {}
      },
      "outputs": [
        {
          "name": "stdout",
          "output_type": "stream",
          "text": [
            "The data shows that people use a set of 366 words or expressions when asking google why such and such is so...\n"
          ]
        }
      ],
      "source": [
        "feature_count \u003d pd.Series(Counter(sdff[\u0027characteristic\u0027])).sort_values(ascending\u003dFalse)\n",
        "write_sr_to_sheet(feature_count, index_name\u003d\u0027characteristic\u0027, val_name\u003d\u0027count\u0027)\n",
        "print(f\"The data shows that people use a set of {len(feature_count)}\", \n",
        "      \"words or expressions when asking google why such and such is so...\")"
      ]
    },
    {
      "cell_type": "code",
      "execution_count": 531,
      "metadata": {
        "ExecuteTime": {
          "end_time": "2020-01-08T17:14:02.191370Z",
          "start_time": "2020-01-08T17:14:02.158457Z"
        },
        "pycharm": {}
      },
      "outputs": [
        {
          "name": "stdout",
          "output_type": "stream",
          "text": [
            "The top 13 words that are used are\n"
          ]
        },
        {
          "data": {
            "text/plain": [
              "characteristic\n",
              "beautiful         11\n",
              "tall              11\n",
              "short              9\n",
              "names long         8\n",
              "proud              8\n",
              "parents strict     8\n",
              "smart              8\n",
              "nice               7\n",
              "boring             6\n",
              "rich               5\n",
              "dark               5\n",
              "successful         5\n",
              "skinny             4\n",
              "Name: count, dtype: int64"
            ]
          },
          "execution_count": 531,
          "metadata": {},
          "output_type": "execute_result"
        }
      ],
      "source": [
        "n \u003d 13\n",
        "print(f\"The top {n} words that are used are\")\n",
        "feature_count.head(n)"
      ]
    },
    {
      "cell_type": "markdown",
      "metadata": {
        "pycharm": {}
      },
      "source": [
        "### Who is..."
      ]
    },
    {
      "cell_type": "code",
      "execution_count": 535,
      "metadata": {
        "ExecuteTime": {
          "end_time": "2020-01-08T17:14:44.207378Z",
          "start_time": "2020-01-08T17:14:44.177689Z"
        },
        "pycharm": {}
      },
      "outputs": [],
      "source": [
        "def whois(characteristic):\n",
        "    return list(sdff[sdff[\u0027characteristic\u0027] \u003d\u003d characteristic][\u0027demonym\u0027])"
      ]
    },
    {
      "cell_type": "code",
      "execution_count": 536,
      "metadata": {
        "ExecuteTime": {
          "end_time": "2020-01-08T17:14:44.627485Z",
          "start_time": "2020-01-08T17:14:44.595797Z"
        },
        "pycharm": {}
      },
      "outputs": [
        {
          "data": {
            "text/plain": [
              "[\u0027albanian\u0027,\n",
              " \u0027eritrean\u0027,\n",
              " \u0027ethiopian\u0027,\n",
              " \u0027filipino\u0027,\n",
              " \u0027iranian\u0027,\n",
              " \u0027lebanese\u0027,\n",
              " \u0027nepalese\u0027,\n",
              " \u0027pakistani\u0027,\n",
              " \u0027romanian\u0027,\n",
              " \u0027ukrainian\u0027,\n",
              " \u0027vietnamese\u0027]"
            ]
          },
          "execution_count": 536,
          "metadata": {},
          "output_type": "execute_result"
        }
      ],
      "source": [
        "whois(\u0027beautiful\u0027)"
      ]
    },
    {
      "cell_type": "code",
      "execution_count": 556,
      "metadata": {
        "ExecuteTime": {
          "end_time": "2020-01-08T17:34:28.897376Z",
          "start_time": "2020-01-08T17:34:28.622367Z"
        },
        "pycharm": {}
      },
      "outputs": [
        {
          "name": "stdout",
          "output_type": "stream",
          "text": [
            "beautiful      : albanian, eritrean, ethiopian, filipino, iranian, lebanese, nepalese, pakistani, romanian, ukrainian, vietnamese\n",
            "tall           : australian, czech, german, nigerian, pakistani, samoan, senegalese, serbian, south korean, sudanese, taiwanese\n",
            "short          : filipino, indonesian, italian, maltese, nepalese, pakistani, portuguese, singaporean, welsh\n",
            "names long     : indian, malagasy, nigerian, portuguese, russian, sri lankan, thai, welsh\n",
            "proud          : albanian, ethiopian, filipino, iranian, lebanese, portuguese, scottish, welsh\n",
            "parents strict : albanian, ethiopian, haitian, indian, lebanese, pakistani, somali, sri lankan\n",
            "smart          : indonesian, iranian, lebanese, pakistani, romanian, singaporean, taiwanese, vietnamese\n",
            "nice           : canadian, english, filipino, nepalese, portuguese, taiwanese, thai\n",
            "boring         : british, english, french, german, singaporean, swiss\n",
            "rich           : lebanese, pakistani, singaporean, taiwanese, vietnamese\n",
            "dark           : filipino, senegalese, sri lankan, vietnamese, welsh\n",
            "successful     : chinese, english, japanese, lebanese, swiss\n"
          ]
        }
      ],
      "source": [
        "whois_sr \u003d dict()\n",
        "for characteristic in feature_count.index.values:\n",
        "    whois_sr[characteristic] \u003d \u0027, \u0027.join(whois(characteristic))\n",
        "whois_sr \u003d pd.Series(whois_sr)\n",
        "write_sr_to_sheet(whois_sr, index_name\u003d\u0027characteristic\u0027, val_name\u003d\u0027demonyms\u0027)\n",
        "\n",
        "for characteristic, demonyms in whois_sr.head(12).items():\n",
        "    print(f\"{characteristic:\u003c15}: {demonyms}\")"
      ]
    },
    {
      "cell_type": "markdown",
      "metadata": {
        "pycharm": {}
      },
      "source": [
        "### Top hit"
      ]
    },
    {
      "cell_type": "code",
      "execution_count": 557,
      "metadata": {
        "ExecuteTime": {
          "end_time": "2020-01-08T17:34:29.657849Z",
          "start_time": "2020-01-08T17:34:29.607997Z"
        },
        "pycharm": {}
      },
      "outputs": [
        {
          "name": "stdout",
          "output_type": "stream",
          "text": [
            "demonym\n",
            "afghan                   eyes beautiful\n",
            "albanian                      beautiful\n",
            "american           girl dolls expensive\n",
            "australian                         tall\n",
            "belgian                      fries good\n",
            "bhutanese                         happy\n",
            "brazilian              good at football\n",
            "british       full of grief and despair\n",
            "bulgarian              properties cheap\n",
            "burmese               cats affectionate\n",
            "Name: top characteristic, dtype: object\n"
          ]
        }
      ],
      "source": [
        "t \u003d sdff[[\u0027demonym\u0027, \u0027characteristic\u0027]].groupby(\u0027demonym\u0027).apply(lambda x: x.iloc[0])[\u0027characteristic\u0027]\n",
        "write_sr_to_sheet(t, index_name\u003d\u0027demonym\u0027, val_name\u003d\u0027top characteristic\u0027)\n",
        "print(t.head(10))"
      ]
    },
    {
      "cell_type": "code",
      "execution_count": 558,
      "metadata": {
        "ExecuteTime": {
          "end_time": "2020-01-08T17:34:30.054203Z",
          "start_time": "2020-01-08T17:34:30.023610Z"
        },
        "pycharm": {}
      },
      "outputs": [
        {
          "name": "stdout",
          "output_type": "stream",
          "text": [
            "afghan    \t                eyes beautiful\n",
            "albanian  \t                     beautiful\n",
            "american  \t          girl dolls expensive\n",
            "australian\t                          tall\n",
            "belgian   \t                    fries good\n",
            "bhutanese \t                         happy\n",
            "brazilian \t              good at football\n",
            "british   \t     full of grief and despair\n",
            "bulgarian \t              properties cheap\n",
            "burmese   \t             cats affectionate\n",
            "cambodian \t                   cows skinny\n",
            "canadian  \t                          nice\n",
            "chinese   \t                       healthy\n",
            "colombian \t                  avocados big\n",
            "cuban     \t                   cigars good\n",
            "czech     \t                          tall\n",
            "dominican \t  republic and haiti different\n",
            "egyptian  \t                gods important\n",
            "english   \t                      reserved\n",
            "eritrean  \t                     beautiful\n",
            "ethiopian \t                     beautiful\n",
            "filipino  \t                         proud\n",
            "finn      \t               shoes expensive\n",
            "french    \t                       healthy\n",
            "german    \t                          tall\n",
            "greek     \t                gods messed up\n",
            "haitian   \t                parents strict\n",
            "hungarian \t                    words long\n",
            "indian    \t            tv debates chaotic\n",
            "indonesian\t                         smart\n",
            "iranian   \t                     beautiful\n",
            "israeli   \t           startups successful\n",
            "italian   \t                         short\n",
            "jamaican  \t                sprinters fast\n",
            "japanese  \t                        polite\n",
            "kenyan    \t                  runners good\n",
            "lebanese  \t                          rich\n",
            "malagasy  \t                    names long\n",
            "malaysian \t                   drivers bad\n",
            "maltese   \t                          rude\n",
            "mongolian \t                  horses small\n",
            "moroccan  \t                rugs expensive\n",
            "nepalese  \t                     beautiful\n",
            "nigerian  \t                          tall\n",
            "north korean\t                      hats big\n",
            "norwegian \t                 flights cheap\n",
            "pakistani \t                          fair\n",
            "peruvian  \t               blueberries big\n",
            "pole      \t                  vaulters hot\n",
            "portuguese\t                         short\n",
            "puerto rican\t       and cuban flags similar\n",
            "romanian  \t                     beautiful\n",
            "russian   \t                  good at math\n",
            "samoan    \t                           big\n",
            "saudi     \t                      arrogant\n",
            "scottish  \t                        bitter\n",
            "senegalese\t                          tall\n",
            "serbian   \t                          tall\n",
            "singaporean\t                          rude\n",
            "somali    \t                parents strict\n",
            "south african\t                     plugs big\n",
            "south korean\t                          tall\n",
            "sri lankan\t                          dark\n",
            "sudanese  \t                          tall\n",
            "swiss     \t        good at making watches\n",
            "syrian    \t                families large\n",
            "taiwanese \t                        pretty\n",
            "thai      \t                        pretty\n",
            "tongan    \t                           big\n",
            "ukrainian \t                     beautiful\n",
            "vietnamese\t        fiercely nationalistic\n",
            "welsh     \t                          dark\n",
            "zambian   \t                emeralds cheap\n"
          ]
        }
      ],
      "source": [
        "for demonym, charact in t.iteritems():\n",
        "    print(f\"{demonym:\u003c10}\\t{charact:\u003e30}\")"
      ]
    },
    {
      "cell_type": "code",
      "execution_count": 559,
      "metadata": {
        "ExecuteTime": {
          "end_time": "2020-01-08T17:34:32.109541Z",
          "start_time": "2020-01-08T17:34:32.079281Z"
        },
        "pycharm": {}
      },
      "outputs": [
        {
          "data": {
            "text/plain": [
              "(73,)"
            ]
          },
          "execution_count": 559,
          "metadata": {},
          "output_type": "execute_result"
        }
      ],
      "source": [
        "t.shape"
      ]
    },
    {
      "cell_type": "markdown",
      "metadata": {
        "pycharm": {}
      },
      "source": [
        "## Persist the xls"
      ]
    },
    {
      "cell_type": "code",
      "execution_count": 560,
      "metadata": {
        "ExecuteTime": {
          "end_time": "2020-01-08T17:34:33.477204Z",
          "start_time": "2020-01-08T17:34:33.394177Z"
        },
        "pycharm": {}
      },
      "outputs": [],
      "source": [
        "xls_writer.save()"
      ]
    },
    {
      "cell_type": "code",
      "execution_count": 561,
      "metadata": {
        "ExecuteTime": {
          "end_time": "2020-01-08T17:34:58.844023Z",
          "start_time": "2020-01-08T17:34:58.805713Z"
        },
        "pycharm": {}
      },
      "outputs": [
        {
          "data": {
            "text/html": [
              "\u003cdiv\u003e\n",
              "\u003cstyle scoped\u003e\n",
              "    .dataframe tbody tr th:only-of-type {\n",
              "        vertical-align: middle;\n",
              "    }\n",
              "\n",
              "    .dataframe tbody tr th {\n",
              "        vertical-align: top;\n",
              "    }\n",
              "\n",
              "    .dataframe thead th {\n",
              "        text-align: right;\n",
              "    }\n",
              "\u003c/style\u003e\n",
              "\u003ctable border\u003d\"1\" class\u003d\"dataframe\"\u003e\n",
              "  \u003cthead\u003e\n",
              "    \u003ctr style\u003d\"text-align: right;\"\u003e\n",
              "      \u003cth\u003e\u003c/th\u003e\n",
              "      \u003cth\u003edemonym\u003c/th\u003e\n",
              "      \u003cth\u003esuggestion\u003c/th\u003e\n",
              "      \u003cth\u003erelevance\u003c/th\u003e\n",
              "      \u003cth\u003echaracteristic\u003c/th\u003e\n",
              "    \u003c/tr\u003e\n",
              "  \u003c/thead\u003e\n",
              "  \u003ctbody\u003e\n",
              "    \u003ctr\u003e\n",
              "      \u003cth\u003e0\u003c/th\u003e\n",
              "      \u003ctd\u003eafghan\u003c/td\u003e\n",
              "      \u003ctd\u003ewhy are afghan eyes so beautiful\u003c/td\u003e\n",
              "      \u003ctd\u003e601\u003c/td\u003e\n",
              "      \u003ctd\u003eeyes beautiful\u003c/td\u003e\n",
              "    \u003c/tr\u003e\n",
              "    \u003ctr\u003e\n",
              "      \u003cth\u003e1\u003c/th\u003e\n",
              "      \u003ctd\u003eafghan\u003c/td\u003e\n",
              "      \u003ctd\u003ewhy are afghan biscuits so called\u003c/td\u003e\n",
              "      \u003ctd\u003e600\u003c/td\u003e\n",
              "      \u003ctd\u003ebiscuits called\u003c/td\u003e\n",
              "    \u003c/tr\u003e\n",
              "    \u003ctr\u003e\n",
              "      \u003cth\u003e2\u003c/th\u003e\n",
              "      \u003ctd\u003eafghan\u003c/td\u003e\n",
              "      \u003ctd\u003ewhy are afghan blankets so warm\u003c/td\u003e\n",
              "      \u003ctd\u003e552\u003c/td\u003e\n",
              "      \u003ctd\u003eblankets warm\u003c/td\u003e\n",
              "    \u003c/tr\u003e\n",
              "    \u003ctr\u003e\n",
              "      \u003cth\u003e3\u003c/th\u003e\n",
              "      \u003ctd\u003eafghan\u003c/td\u003e\n",
              "      \u003ctd\u003ewhy are afghan rugs so expensive\u003c/td\u003e\n",
              "      \u003ctd\u003e551\u003c/td\u003e\n",
              "      \u003ctd\u003erugs expensive\u003c/td\u003e\n",
              "    \u003c/tr\u003e\n",
              "    \u003ctr\u003e\n",
              "      \u003cth\u003e4\u003c/th\u003e\n",
              "      \u003ctd\u003eafghan\u003c/td\u003e\n",
              "      \u003ctd\u003ewhy afghanistan so poor\u003c/td\u003e\n",
              "      \u003ctd\u003e550\u003c/td\u003e\n",
              "      \u003ctd\u003eistan poor\u003c/td\u003e\n",
              "    \u003c/tr\u003e\n",
              "    \u003ctr\u003e\n",
              "      \u003cth\u003e...\u003c/th\u003e\n",
              "      \u003ctd\u003e...\u003c/td\u003e\n",
              "      \u003ctd\u003e...\u003c/td\u003e\n",
              "      \u003ctd\u003e...\u003c/td\u003e\n",
              "      \u003ctd\u003e...\u003c/td\u003e\n",
              "    \u003c/tr\u003e\n",
              "    \u003ctr\u003e\n",
              "      \u003cth\u003e518\u003c/th\u003e\n",
              "      \u003ctd\u003ewelsh\u003c/td\u003e\n",
              "      \u003ctd\u003ewhy are welsh words so long\u003c/td\u003e\n",
              "      \u003ctd\u003e553\u003c/td\u003e\n",
              "      \u003ctd\u003ewords long\u003c/td\u003e\n",
              "    \u003c/tr\u003e\n",
              "    \u003ctr\u003e\n",
              "      \u003cth\u003e519\u003c/th\u003e\n",
              "      \u003ctd\u003ewelsh\u003c/td\u003e\n",
              "      \u003ctd\u003ewhy are welsh names so long\u003c/td\u003e\n",
              "      \u003ctd\u003e552\u003c/td\u003e\n",
              "      \u003ctd\u003enames long\u003c/td\u003e\n",
              "    \u003c/tr\u003e\n",
              "    \u003ctr\u003e\n",
              "      \u003cth\u003e520\u003c/th\u003e\n",
              "      \u003ctd\u003ewelsh\u003c/td\u003e\n",
              "      \u003ctd\u003ewhy are welsh hats so tall\u003c/td\u003e\n",
              "      \u003ctd\u003e551\u003c/td\u003e\n",
              "      \u003ctd\u003ehats tall\u003c/td\u003e\n",
              "    \u003c/tr\u003e\n",
              "    \u003ctr\u003e\n",
              "      \u003cth\u003e521\u003c/th\u003e\n",
              "      \u003ctd\u003ewelsh\u003c/td\u003e\n",
              "      \u003ctd\u003ewhy are welsh corgis so expensive\u003c/td\u003e\n",
              "      \u003ctd\u003e550\u003c/td\u003e\n",
              "      \u003ctd\u003ecorgis expensive\u003c/td\u003e\n",
              "    \u003c/tr\u003e\n",
              "    \u003ctr\u003e\n",
              "      \u003cth\u003e522\u003c/th\u003e\n",
              "      \u003ctd\u003ezambian\u003c/td\u003e\n",
              "      \u003ctd\u003ewhy are zambian emeralds so cheap\u003c/td\u003e\n",
              "      \u003ctd\u003e600\u003c/td\u003e\n",
              "      \u003ctd\u003eemeralds cheap\u003c/td\u003e\n",
              "    \u003c/tr\u003e\n",
              "  \u003c/tbody\u003e\n",
              "\u003c/table\u003e\n",
              "\u003cp\u003e523 rows × 4 columns\u003c/p\u003e\n",
              "\u003c/div\u003e"
            ],
            "text/plain": [
              "     demonym                         suggestion  relevance    characteristic\n",
              "0     afghan   why are afghan eyes so beautiful        601    eyes beautiful\n",
              "1     afghan  why are afghan biscuits so called        600   biscuits called\n",
              "2     afghan    why are afghan blankets so warm        552     blankets warm\n",
              "3     afghan   why are afghan rugs so expensive        551    rugs expensive\n",
              "4     afghan            why afghanistan so poor        550        istan poor\n",
              "..       ...                                ...        ...               ...\n",
              "518    welsh        why are welsh words so long        553        words long\n",
              "519    welsh        why are welsh names so long        552        names long\n",
              "520    welsh         why are welsh hats so tall        551         hats tall\n",
              "521    welsh  why are welsh corgis so expensive        550  corgis expensive\n",
              "522  zambian  why are zambian emeralds so cheap        600    emeralds cheap\n",
              "\n",
              "[523 rows x 4 columns]"
            ]
          },
          "execution_count": 561,
          "metadata": {},
          "output_type": "execute_result"
        }
      ],
      "source": []
    },
    {
      "cell_type": "code",
      "execution_count": null,
      "metadata": {
        "pycharm": {}
      },
      "outputs": [],
      "source": []
    },
    {
      "cell_type": "code",
      "execution_count": null,
      "metadata": {
        "ExecuteTime": {
          "end_time": "2020-01-07T23:07:36.664535Z",
          "start_time": "2020-01-07T23:07:36.632290Z"
        },
        "pycharm": {}
      },
      "outputs": [],
      "source": []
    },
    {
      "cell_type": "markdown",
      "metadata": {
        "pycharm": {}
      },
      "source": [
        "## Poking around"
      ]
    },
    {
      "cell_type": "code",
      "execution_count": 188,
      "metadata": {
        "ExecuteTime": {
          "end_time": "2020-01-07T22:38:32.745438Z",
          "start_time": "2020-01-07T22:38:32.720978Z"
        },
        "pycharm": {}
      },
      "outputs": [],
      "source": [
        "demonym, r \u003d s.head()"
      ]
    },
    {
      "cell_type": "code",
      "execution_count": 189,
      "metadata": {
        "ExecuteTime": {
          "end_time": "2020-01-07T22:38:32.934434Z",
          "start_time": "2020-01-07T22:38:32.908512Z"
        },
        "pycharm": {}
      },
      "outputs": [
        {
          "data": {
            "text/plain": [
              "[\u0027why are the Indian so\u0027,\n",
              " [\u0027what are the south indian states\u0027,\n",
              "  \u0027what are the south indian languages\u0027,\n",
              "  \u0027what are the southwest indian tribes\u0027,\n",
              "  \u0027what are the south indian dishes\u0027,\n",
              "  \u0027what are the south indian food\u0027,\n",
              "  \u0027what are the south indian tiffin items\u0027,\n",
              "  \u0027what are the south indian breakfast\u0027,\n",
              "  \u0027why indian song\u0027,\n",
              "  \u0027why south indian bank\u0027,\n",
              "  \u0027why south indian\u0027],\n",
              " [\u0027\u0027, \u0027\u0027, \u0027\u0027, \u0027\u0027, \u0027\u0027, \u0027\u0027, \u0027\u0027, \u0027\u0027, \u0027\u0027, \u0027\u0027],\n",
              " [],\n",
              " {\u0027google:clientdata\u0027: {\u0027bpc\u0027: False, \u0027tlw\u0027: False},\n",
              "  \u0027google:suggestrelevance\u0027: [601,\n",
              "   600,\n",
              "   557,\n",
              "   556,\n",
              "   555,\n",
              "   554,\n",
              "   553,\n",
              "   552,\n",
              "   551,\n",
              "   550],\n",
              "  \u0027google:suggesttype\u0027: [\u0027QUERY\u0027,\n",
              "   \u0027QUERY\u0027,\n",
              "   \u0027QUERY\u0027,\n",
              "   \u0027QUERY\u0027,\n",
              "   \u0027QUERY\u0027,\n",
              "   \u0027QUERY\u0027,\n",
              "   \u0027QUERY\u0027,\n",
              "   \u0027QUERY\u0027,\n",
              "   \u0027QUERY\u0027,\n",
              "   \u0027QUERY\u0027],\n",
              "  \u0027google:verbatimrelevance\u0027: 851}]"
            ]
          },
          "execution_count": 189,
          "metadata": {},
          "output_type": "execute_result"
        }
      ],
      "source": [
        "r"
      ]
    },
    {
      "cell_type": "code",
      "execution_count": 178,
      "metadata": {
        "ExecuteTime": {
          "end_time": "2020-01-07T22:32:12.150866Z",
          "start_time": "2020-01-07T22:32:12.035323Z"
        },
        "pycharm": {}
      },
      "outputs": [
        {
          "data": {
            "text/plain": [
              "Counter({851: 214, 1300: 1})"
            ]
          },
          "execution_count": 178,
          "metadata": {},
          "output_type": "execute_result"
        }
      ],
      "source": [
        "Counter([r[-1][\u0027google:verbatimrelevance\u0027] for r in s.values()])"
      ]
    },
    {
      "cell_type": "code",
      "execution_count": 187,
      "metadata": {
        "ExecuteTime": {
          "end_time": "2020-01-07T22:36:22.247545Z",
          "start_time": "2020-01-07T22:36:22.145586Z"
        },
        "pycharm": {}
      },
      "outputs": [
        {
          "data": {
            "text/plain": [
              "0     122\n",
              "1      24\n",
              "2      12\n",
              "3       9\n",
              "4       6\n",
              "5       5\n",
              "7       5\n",
              "8       5\n",
              "14      4\n",
              "6       4\n",
              "20      4\n",
              "11      3\n",
              "10      2\n",
              "9       2\n",
              "16      2\n",
              "17      2\n",
              "18      1\n",
              "12      1\n",
              "19      1\n",
              "15      1\n",
              "dtype: int64"
            ]
          },
          "execution_count": 187,
          "metadata": {},
          "output_type": "execute_result"
        }
      ],
      "source": [
        "t \u003d [r[-1].get(\u0027google:suggestrelevance\u0027, []) for r in s.values()]\n",
        "pd.Series(Counter(map(len, t))).sort_values(ascending\u003dFalse)"
      ]
    },
    {
      "cell_type": "markdown",
      "metadata": {
        "pycharm": {}
      },
      "source": [
        "# Getting the data"
      ]
    },
    {
      "cell_type": "code",
      "execution_count": 46,
      "metadata": {
        "ExecuteTime": {
          "end_time": "2020-01-07T17:23:58.467317Z",
          "start_time": "2020-01-07T17:23:58.443026Z"
        },
        "pycharm": {}
      },
      "outputs": [],
      "source": [
        "import requests\n",
        "from bs4 import BeautifulSoup\n",
        "import re"
      ]
    },
    {
      "cell_type": "markdown",
      "metadata": {
        "pycharm": {}
      },
      "source": [
        "## List of demonyms"
      ]
    },
    {
      "cell_type": "markdown",
      "metadata": {
        "pycharm": {}
      },
      "source": [
        "### From saved"
      ]
    },
    {
      "cell_type": "code",
      "execution_count": 250,
      "metadata": {
        "ExecuteTime": {
          "end_time": "2020-01-07T23:22:21.328556Z",
          "start_time": "2020-01-07T23:22:21.278810Z"
        },
        "pycharm": {}
      },
      "outputs": [
        {
          "data": {
            "text/html": [
              "\u003cdiv\u003e\n",
              "\u003cstyle scoped\u003e\n",
              "    .dataframe tbody tr th:only-of-type {\n",
              "        vertical-align: middle;\n",
              "    }\n",
              "\n",
              "    .dataframe tbody tr th {\n",
              "        vertical-align: top;\n",
              "    }\n",
              "\n",
              "    .dataframe thead th {\n",
              "        text-align: right;\n",
              "    }\n",
              "\u003c/style\u003e\n",
              "\u003ctable border\u003d\"1\" class\u003d\"dataframe\"\u003e\n",
              "  \u003cthead\u003e\n",
              "    \u003ctr style\u003d\"text-align: right;\"\u003e\n",
              "      \u003cth\u003e\u003c/th\u003e\n",
              "      \u003cth\u003ecountry\u003c/th\u003e\n",
              "      \u003cth\u003edemonym\u003c/th\u003e\n",
              "    \u003c/tr\u003e\n",
              "  \u003c/thead\u003e\n",
              "  \u003ctbody\u003e\n",
              "    \u003ctr\u003e\n",
              "      \u003cth\u003e0\u003c/th\u003e\n",
              "      \u003ctd\u003eAfghanistan\u003c/td\u003e\n",
              "      \u003ctd\u003eAfghan\u003c/td\u003e\n",
              "    \u003c/tr\u003e\n",
              "    \u003ctr\u003e\n",
              "      \u003cth\u003e1\u003c/th\u003e\n",
              "      \u003ctd\u003eAlbania\u003c/td\u003e\n",
              "      \u003ctd\u003eAlbanian\u003c/td\u003e\n",
              "    \u003c/tr\u003e\n",
              "    \u003ctr\u003e\n",
              "      \u003cth\u003e2\u003c/th\u003e\n",
              "      \u003ctd\u003eAlgeria\u003c/td\u003e\n",
              "      \u003ctd\u003eAlgerian\u003c/td\u003e\n",
              "    \u003c/tr\u003e\n",
              "    \u003ctr\u003e\n",
              "      \u003cth\u003e3\u003c/th\u003e\n",
              "      \u003ctd\u003eAndorra\u003c/td\u003e\n",
              "      \u003ctd\u003eAndorran\u003c/td\u003e\n",
              "    \u003c/tr\u003e\n",
              "    \u003ctr\u003e\n",
              "      \u003cth\u003e4\u003c/th\u003e\n",
              "      \u003ctd\u003eAngola\u003c/td\u003e\n",
              "      \u003ctd\u003eAngolan\u003c/td\u003e\n",
              "    \u003c/tr\u003e\n",
              "    \u003ctr\u003e\n",
              "      \u003cth\u003e...\u003c/th\u003e\n",
              "      \u003ctd\u003e...\u003c/td\u003e\n",
              "      \u003ctd\u003e...\u003c/td\u003e\n",
              "    \u003c/tr\u003e\n",
              "    \u003ctr\u003e\n",
              "      \u003cth\u003e212\u003c/th\u003e\n",
              "      \u003ctd\u003eVirgin Islands\u003c/td\u003e\n",
              "      \u003ctd\u003eVirgin Islander\u003c/td\u003e\n",
              "    \u003c/tr\u003e\n",
              "    \u003ctr\u003e\n",
              "      \u003cth\u003e213\u003c/th\u003e\n",
              "      \u003ctd\u003eWales\u003c/td\u003e\n",
              "      \u003ctd\u003eWelsh\u003c/td\u003e\n",
              "    \u003c/tr\u003e\n",
              "    \u003ctr\u003e\n",
              "      \u003cth\u003e214\u003c/th\u003e\n",
              "      \u003ctd\u003eYemen\u003c/td\u003e\n",
              "      \u003ctd\u003eYemeni\u003c/td\u003e\n",
              "    \u003c/tr\u003e\n",
              "    \u003ctr\u003e\n",
              "      \u003cth\u003e215\u003c/th\u003e\n",
              "      \u003ctd\u003eZambia\u003c/td\u003e\n",
              "      \u003ctd\u003eZambian\u003c/td\u003e\n",
              "    \u003c/tr\u003e\n",
              "    \u003ctr\u003e\n",
              "      \u003cth\u003e216\u003c/th\u003e\n",
              "      \u003ctd\u003eZimbabwe\u003c/td\u003e\n",
              "      \u003ctd\u003eZimbabwean\u003c/td\u003e\n",
              "    \u003c/tr\u003e\n",
              "  \u003c/tbody\u003e\n",
              "\u003c/table\u003e\n",
              "\u003cp\u003e217 rows × 2 columns\u003c/p\u003e\n",
              "\u003c/div\u003e"
            ],
            "text/plain": [
              "            country          demonym\n",
              "0       Afghanistan           Afghan\n",
              "1           Albania         Albanian\n",
              "2           Algeria         Algerian\n",
              "3           Andorra         Andorran\n",
              "4            Angola          Angolan\n",
              "..              ...              ...\n",
              "212  Virgin Islands  Virgin Islander\n",
              "213           Wales            Welsh\n",
              "214           Yemen           Yemeni\n",
              "215          Zambia          Zambian\n",
              "216        Zimbabwe       Zimbabwean\n",
              "\n",
              "[217 rows x 2 columns]"
            ]
          },
          "execution_count": 250,
          "metadata": {},
          "output_type": "execute_result"
        }
      ],
      "source": [
        "# df \u003d pd.read_excel(\u0027country_demonym.xlsx\u0027)\n",
        "df \u003d pd.read_pickle(\u0027country_demonym.p\u0027)\n",
        "df"
      ]
    },
    {
      "cell_type": "markdown",
      "metadata": {
        "pycharm": {}
      },
      "source": [
        "### Scrape it"
      ]
    },
    {
      "cell_type": "code",
      "execution_count": 120,
      "metadata": {
        "ExecuteTime": {
          "end_time": "2020-01-07T19:59:40.762849Z",
          "start_time": "2020-01-07T19:59:40.349755Z"
        },
        "pycharm": {}
      },
      "outputs": [
        {
          "data": {
            "text/plain": [
              "220"
            ]
          },
          "execution_count": 120,
          "metadata": {},
          "output_type": "execute_result"
        }
      ],
      "source": [
        "demonym_url \u003d \u0027http://www.geography-site.co.uk/pages/countries/demonyms.html\u0027\n",
        "\n",
        "t \u003d BeautifulSoup(requests.get(demonym_url).content)\n",
        "tt \u003d t.find_all(\u0027table\u0027)\n",
        "tt \u003d tt[-1]\n",
        "tt \u003d tt.find_all(\u0027tr\u0027)\n",
        "len(tt)    "
      ]
    },
    {
      "cell_type": "code",
      "execution_count": 127,
      "metadata": {
        "ExecuteTime": {
          "end_time": "2020-01-07T20:01:17.841740Z",
          "start_time": "2020-01-07T20:01:17.802925Z"
        },
        "pycharm": {}
      },
      "outputs": [
        {
          "name": "stdout",
          "output_type": "stream",
          "text": [
            "(217, 2)\n"
          ]
        },
        {
          "data": {
            "text/html": [
              "\u003cdiv\u003e\n",
              "\u003cstyle scoped\u003e\n",
              "    .dataframe tbody tr th:only-of-type {\n",
              "        vertical-align: middle;\n",
              "    }\n",
              "\n",
              "    .dataframe tbody tr th {\n",
              "        vertical-align: top;\n",
              "    }\n",
              "\n",
              "    .dataframe thead th {\n",
              "        text-align: right;\n",
              "    }\n",
              "\u003c/style\u003e\n",
              "\u003ctable border\u003d\"1\" class\u003d\"dataframe\"\u003e\n",
              "  \u003cthead\u003e\n",
              "    \u003ctr style\u003d\"text-align: right;\"\u003e\n",
              "      \u003cth\u003e\u003c/th\u003e\n",
              "      \u003cth\u003ecountry\u003c/th\u003e\n",
              "      \u003cth\u003edemonym\u003c/th\u003e\n",
              "    \u003c/tr\u003e\n",
              "  \u003c/thead\u003e\n",
              "  \u003ctbody\u003e\n",
              "    \u003ctr\u003e\n",
              "      \u003cth\u003e0\u003c/th\u003e\n",
              "      \u003ctd\u003eAfghanistan\u003c/td\u003e\n",
              "      \u003ctd\u003eAfghan\u003c/td\u003e\n",
              "    \u003c/tr\u003e\n",
              "    \u003ctr\u003e\n",
              "      \u003cth\u003e1\u003c/th\u003e\n",
              "      \u003ctd\u003eAlbania\u003c/td\u003e\n",
              "      \u003ctd\u003eAlbanian\u003c/td\u003e\n",
              "    \u003c/tr\u003e\n",
              "    \u003ctr\u003e\n",
              "      \u003cth\u003e2\u003c/th\u003e\n",
              "      \u003ctd\u003eAlgeria\u003c/td\u003e\n",
              "      \u003ctd\u003eAlgerian\u003c/td\u003e\n",
              "    \u003c/tr\u003e\n",
              "    \u003ctr\u003e\n",
              "      \u003cth\u003e3\u003c/th\u003e\n",
              "      \u003ctd\u003eAndorra\u003c/td\u003e\n",
              "      \u003ctd\u003eAndorran\u003c/td\u003e\n",
              "    \u003c/tr\u003e\n",
              "    \u003ctr\u003e\n",
              "      \u003cth\u003e4\u003c/th\u003e\n",
              "      \u003ctd\u003eAngola\u003c/td\u003e\n",
              "      \u003ctd\u003eAngolan\u003c/td\u003e\n",
              "    \u003c/tr\u003e\n",
              "  \u003c/tbody\u003e\n",
              "\u003c/table\u003e\n",
              "\u003c/div\u003e"
            ],
            "text/plain": [
              "       country   demonym\n",
              "0  Afghanistan    Afghan\n",
              "1      Albania  Albanian\n",
              "2      Algeria  Algerian\n",
              "3      Andorra  Andorran\n",
              "4       Angola   Angolan"
            ]
          },
          "execution_count": 127,
          "metadata": {},
          "output_type": "execute_result"
        }
      ],
      "source": [
        "p \u003d re.compile(\u0027\\n|\\r\u0027)\n",
        "\n",
        "df \u003d list()\n",
        "for s in tt:\n",
        "    s \u003d s.text\n",
        "    ss \u003d list(filter(lambda x: len(x) \u003e 1, p.split(s)))\n",
        "    if ss:\n",
        "        df.append(ss)\n",
        "df \u003d pd.DataFrame(df[1:], columns\u003dlist(map(str.lower, df[0])))\n",
        "print(df.shape)\n",
        "df.head()"
      ]
    },
    {
      "cell_type": "code",
      "execution_count": 249,
      "metadata": {
        "ExecuteTime": {
          "end_time": "2020-01-07T23:22:16.466036Z",
          "start_time": "2020-01-07T23:22:16.412894Z"
        },
        "pycharm": {}
      },
      "outputs": [],
      "source": [
        "# df.to_excel(\u0027country_demonym.xlsx\u0027, index\u003dFalse)"
      ]
    },
    {
      "cell_type": "code",
      "execution_count": 143,
      "metadata": {
        "ExecuteTime": {
          "end_time": "2020-01-07T22:05:32.281806Z",
          "start_time": "2020-01-07T22:05:32.253907Z"
        },
        "pycharm": {}
      },
      "outputs": [],
      "source": [
        "p \u003d re.compile(\u0027[\\w\\-\\s]+\u0027)\n",
        "demonyms \u003d list(map(lambda x: p.match(x).group(0).strip(), df.demonym))"
      ]
    },
    {
      "cell_type": "code",
      "execution_count": 145,
      "metadata": {
        "ExecuteTime": {
          "end_time": "2020-01-07T22:05:36.841502Z",
          "start_time": "2020-01-07T22:05:36.813268Z"
        },
        "pycharm": {}
      },
      "outputs": [
        {
          "data": {
            "text/plain": [
              "[\u0027Azerbaijani - also Azeri\u0027,\n",
              " \u0027Barbadian or Bajuns\u0027,\n",
              " \u0027Cape Verdian or Cape Verdean\u0027,\n",
              " \u0027Equatorial Guinean or Equatoguinean\u0027,\n",
              " \u0027Grenadian or Grenadan\u0027,\n",
              " \u0027Irishman or Irishwoman or Irish\u0027,\n",
              " \u0027Lao or Laotian\u0027,\n",
              " \u0027Monegasque or Monacan\u0027,\n",
              " \u0027Burmese or Myanmarese\u0027,\n",
              " \u0027Netherlander  or Dutch\u0027,\n",
              " \u0027New Zealander or Kiwi\u0027,\n",
              " \u0027Sammarinese or San Marinese\u0027,\n",
              " \u0027Saudi or Saudi Arabian\u0027,\n",
              " \u0027Serbian or Montenegrin\u0027,\n",
              " \u0027Tajik or Tadzhik\u0027,\n",
              " \u0027Trinidadian or Tobagonian\u0027,\n",
              " \u0027Uzbek or Uzbekistani\u0027,\n",
              " \u0027Yemeni or Yemenite\u0027]"
            ]
          },
          "execution_count": 145,
          "metadata": {},
          "output_type": "execute_result"
        }
      ],
      "source": [
        "complicated_demonyms \u003d list(filter(re.compile(\u0027\\ or\\ |\\ \\-\\ |\\ also\\ \u0027).findall, demonyms))\n",
        "complicated_demonyms"
      ]
    },
    {
      "cell_type": "code",
      "execution_count": 146,
      "metadata": {
        "ExecuteTime": {
          "end_time": "2020-01-07T22:05:39.622074Z",
          "start_time": "2020-01-07T22:05:39.594816Z"
        },
        "pycharm": {}
      },
      "outputs": [
        {
          "data": {
            "text/plain": [
              "{\u0027Azerbaijani - also Azeri\u0027: \u0027Azerbaijani - also Azeri\u0027,\n",
              " \u0027Barbadian or Bajuns\u0027: \u0027Barbadian or Bajuns\u0027,\n",
              " \u0027Cape Verdian or Cape Verdean\u0027: \u0027Cape Verdian or Cape Verdean\u0027,\n",
              " \u0027Equatorial Guinean or Equatoguinean\u0027: \u0027Equatorial Guinean or Equatoguinean\u0027,\n",
              " \u0027Grenadian or Grenadan\u0027: \u0027Grenadian or Grenadan\u0027,\n",
              " \u0027Irishman or Irishwoman or Irish\u0027: \u0027Irishman or Irishwoman or Irish\u0027,\n",
              " \u0027Lao or Laotian\u0027: \u0027Lao or Laotian\u0027,\n",
              " \u0027Monegasque or Monacan\u0027: \u0027Monegasque or Monacan\u0027,\n",
              " \u0027Burmese or Myanmarese\u0027: \u0027Burmese or Myanmarese\u0027,\n",
              " \u0027Netherlander  or Dutch\u0027: \u0027Netherlander  or Dutch\u0027,\n",
              " \u0027New Zealander or Kiwi\u0027: \u0027New Zealander or Kiwi\u0027,\n",
              " \u0027Sammarinese or San Marinese\u0027: \u0027Sammarinese or San Marinese\u0027,\n",
              " \u0027Saudi or Saudi Arabian\u0027: \u0027Saudi or Saudi Arabian\u0027,\n",
              " \u0027Serbian or Montenegrin\u0027: \u0027Serbian or Montenegrin\u0027,\n",
              " \u0027Tajik or Tadzhik\u0027: \u0027Tajik or Tadzhik\u0027,\n",
              " \u0027Trinidadian or Tobagonian\u0027: \u0027Trinidadian or Tobagonian\u0027,\n",
              " \u0027Uzbek or Uzbekistani\u0027: \u0027Uzbek or Uzbekistani\u0027,\n",
              " \u0027Yemeni or Yemenite\u0027: \u0027Yemeni or Yemenite\u0027}"
            ]
          },
          "execution_count": 146,
          "metadata": {},
          "output_type": "execute_result"
        }
      ],
      "source": [
        "{x: x for x in complicated_demonyms}"
      ]
    },
    {
      "cell_type": "code",
      "execution_count": 147,
      "metadata": {
        "ExecuteTime": {
          "end_time": "2020-01-07T22:05:51.144585Z",
          "start_time": "2020-01-07T22:05:51.116149Z"
        },
        "pycharm": {}
      },
      "outputs": [],
      "source": [
        "replacements \u003d {\u0027Azerbaijani - also Azeri\u0027: \u0027Azerbaijani\u0027,\n",
        " \u0027Barbadian or Bajuns\u0027: \u0027Barbadian\u0027,\n",
        " \u0027Cape Verdian or Cape Verdean\u0027: \u0027Cape Verdian\u0027,\n",
        " \u0027Equatorial Guinean or Equatoguinean\u0027: \u0027Equatorial Guinean\u0027,\n",
        " \u0027Grenadian or Grenadan\u0027: \u0027Grenadian\u0027,\n",
        " \u0027Irishman or Irishwoman or Irish \u0027: \u0027Irish \u0027,\n",
        " \u0027Lao or Laotian\u0027: \u0027Laotian\u0027,\n",
        " \u0027Monegasque or Monacan\u0027: \u0027Monegasque\u0027,\n",
        " \u0027Burmese or Myanmarese\u0027: \u0027Burmese\u0027,\n",
        " \u0027Netherlander  or Dutch \u0027: \u0027Dutch \u0027,\n",
        " \u0027New Zealander or Kiwi\u0027: \u0027New Zealander\u0027,\n",
        " \u0027Sammarinese or San Marinese\u0027: \u0027San Marinese\u0027,\n",
        " \u0027Saudi or Saudi Arabian\u0027: \u0027Saudi\u0027,\n",
        " \u0027Serbian or Montenegrin\u0027: \u0027Serbian\u0027,\n",
        " \u0027Tajik or Tadzhik\u0027: \u0027Tajik\u0027,\n",
        " \u0027Trinidadian or Tobagonian\u0027: \u0027Trinidadian\u0027,\n",
        " \u0027Uzbek or Uzbekistani\u0027: \u0027Uzbek\u0027,\n",
        " \u0027Yemeni or Yemenite\u0027: \u0027Yemeni\u0027}\n",
        "replace \u003d lambda x: replacements.get(x, x)"
      ]
    },
    {
      "cell_type": "code",
      "execution_count": 152,
      "metadata": {
        "ExecuteTime": {
          "end_time": "2020-01-07T22:07:08.590550Z",
          "start_time": "2020-01-07T22:07:08.557800Z"
        },
        "pycharm": {}
      },
      "outputs": [
        {
          "data": {
            "text/html": [
              "\u003cdiv\u003e\n",
              "\u003cstyle scoped\u003e\n",
              "    .dataframe tbody tr th:only-of-type {\n",
              "        vertical-align: middle;\n",
              "    }\n",
              "\n",
              "    .dataframe tbody tr th {\n",
              "        vertical-align: top;\n",
              "    }\n",
              "\n",
              "    .dataframe thead th {\n",
              "        text-align: right;\n",
              "    }\n",
              "\u003c/style\u003e\n",
              "\u003ctable border\u003d\"1\" class\u003d\"dataframe\"\u003e\n",
              "  \u003cthead\u003e\n",
              "    \u003ctr style\u003d\"text-align: right;\"\u003e\n",
              "      \u003cth\u003e\u003c/th\u003e\n",
              "      \u003cth\u003ecountry\u003c/th\u003e\n",
              "      \u003cth\u003edemonym\u003c/th\u003e\n",
              "    \u003c/tr\u003e\n",
              "  \u003c/thead\u003e\n",
              "  \u003ctbody\u003e\n",
              "    \u003ctr\u003e\n",
              "      \u003cth\u003e0\u003c/th\u003e\n",
              "      \u003ctd\u003eAfghanistan\u003c/td\u003e\n",
              "      \u003ctd\u003eAfghan\u003c/td\u003e\n",
              "    \u003c/tr\u003e\n",
              "    \u003ctr\u003e\n",
              "      \u003cth\u003e1\u003c/th\u003e\n",
              "      \u003ctd\u003eAlbania\u003c/td\u003e\n",
              "      \u003ctd\u003eAlbanian\u003c/td\u003e\n",
              "    \u003c/tr\u003e\n",
              "    \u003ctr\u003e\n",
              "      \u003cth\u003e2\u003c/th\u003e\n",
              "      \u003ctd\u003eAlgeria\u003c/td\u003e\n",
              "      \u003ctd\u003eAlgerian\u003c/td\u003e\n",
              "    \u003c/tr\u003e\n",
              "    \u003ctr\u003e\n",
              "      \u003cth\u003e3\u003c/th\u003e\n",
              "      \u003ctd\u003eAndorra\u003c/td\u003e\n",
              "      \u003ctd\u003eAndorran\u003c/td\u003e\n",
              "    \u003c/tr\u003e\n",
              "    \u003ctr\u003e\n",
              "      \u003cth\u003e4\u003c/th\u003e\n",
              "      \u003ctd\u003eAngola\u003c/td\u003e\n",
              "      \u003ctd\u003eAngolan\u003c/td\u003e\n",
              "    \u003c/tr\u003e\n",
              "    \u003ctr\u003e\n",
              "      \u003cth\u003e...\u003c/th\u003e\n",
              "      \u003ctd\u003e...\u003c/td\u003e\n",
              "      \u003ctd\u003e...\u003c/td\u003e\n",
              "    \u003c/tr\u003e\n",
              "    \u003ctr\u003e\n",
              "      \u003cth\u003e212\u003c/th\u003e\n",
              "      \u003ctd\u003eVirgin Islands\u003c/td\u003e\n",
              "      \u003ctd\u003eVirgin Islander\u003c/td\u003e\n",
              "    \u003c/tr\u003e\n",
              "    \u003ctr\u003e\n",
              "      \u003cth\u003e213\u003c/th\u003e\n",
              "      \u003ctd\u003eWales\u003c/td\u003e\n",
              "      \u003ctd\u003eWelsh\u003c/td\u003e\n",
              "    \u003c/tr\u003e\n",
              "    \u003ctr\u003e\n",
              "      \u003cth\u003e214\u003c/th\u003e\n",
              "      \u003ctd\u003eYemen\u003c/td\u003e\n",
              "      \u003ctd\u003eYemeni\u003c/td\u003e\n",
              "    \u003c/tr\u003e\n",
              "    \u003ctr\u003e\n",
              "      \u003cth\u003e215\u003c/th\u003e\n",
              "      \u003ctd\u003eZambia\u003c/td\u003e\n",
              "      \u003ctd\u003eZambian\u003c/td\u003e\n",
              "    \u003c/tr\u003e\n",
              "    \u003ctr\u003e\n",
              "      \u003cth\u003e216\u003c/th\u003e\n",
              "      \u003ctd\u003eZimbabwe\u003c/td\u003e\n",
              "      \u003ctd\u003eZimbabwean\u003c/td\u003e\n",
              "    \u003c/tr\u003e\n",
              "  \u003c/tbody\u003e\n",
              "\u003c/table\u003e\n",
              "\u003cp\u003e217 rows × 2 columns\u003c/p\u003e\n",
              "\u003c/div\u003e"
            ],
            "text/plain": [
              "            country          demonym\n",
              "0       Afghanistan           Afghan\n",
              "1           Albania         Albanian\n",
              "2           Algeria         Algerian\n",
              "3           Andorra         Andorran\n",
              "4            Angola          Angolan\n",
              "..              ...              ...\n",
              "212  Virgin Islands  Virgin Islander\n",
              "213           Wales            Welsh\n",
              "214           Yemen           Yemeni\n",
              "215         Zambia           Zambian\n",
              "216       Zimbabwe        Zimbabwean\n",
              "\n",
              "[217 rows x 2 columns]"
            ]
          },
          "execution_count": 152,
          "metadata": {},
          "output_type": "execute_result"
        }
      ],
      "source": [
        "df[\u0027demonym\u0027] \u003d list(map(replace, demonyms))\n",
        "df"
      ]
    },
    {
      "cell_type": "code",
      "execution_count": 506,
      "metadata": {
        "ExecuteTime": {
          "end_time": "2020-01-08T16:10:46.944606Z",
          "start_time": "2020-01-08T16:10:46.912399Z"
        },
        "pycharm": {}
      },
      "outputs": [],
      "source": [
        "# df.to_excel(\u0027country_demonym.xlsx\u0027, index\u003dFalse)\n",
        "# df.to_pickle(\u0027country_demonym.p\u0027)"
      ]
    },
    {
      "cell_type": "code",
      "execution_count": null,
      "metadata": {
        "pycharm": {}
      },
      "outputs": [],
      "source": []
    },
    {
      "cell_type": "markdown",
      "metadata": {
        "pycharm": {}
      },
      "source": [
        "## Auto-suggest"
      ]
    },
    {
      "cell_type": "code",
      "execution_count": 251,
      "metadata": {
        "ExecuteTime": {
          "end_time": "2020-01-07T23:22:29.907177Z",
          "start_time": "2020-01-07T23:22:29.871472Z"
        },
        "pycharm": {}
      },
      "outputs": [],
      "source": [
        "import requests, json, re\n",
        "\n",
        "p_filename_chars \u003d re.compile(\u0027[^\\w\\-]\u0027)\n",
        "\n",
        "def filename_of_demonym(demonym):\n",
        "    t \u003d demonym.strip().lower()\n",
        "    t \u003d p_filename_chars.sub(\u0027_\u0027, t)\n",
        "    return f\"{t}.json\"\n",
        "\n",
        "def google_auto_suggestions_response(q, user_agent\u003d\u0027Chrome/79.0.3945.88\u0027, \n",
        "                            url_prefix\u003d\u0027http://suggestqueries.google.com/complete/search?client\u003dchrome\u0026q\u003d\u0027):\n",
        "    url \u003d f\"{url_prefix}{q}\"\n",
        "    headers \u003d {\u0027User-agent\u0027: user_agent}\n",
        "    return requests.get(url, headers\u003dheaders)\n",
        "\n",
        "def google_auto_suggestions(q, user_agent\u003d\u0027Chrome/79.0.3945.88\u0027, \n",
        "                            url_prefix\u003d\u0027http://suggestqueries.google.com/complete/search?client\u003dchrome\u0026q\u003d\u0027):\n",
        "    try:\n",
        "        response \u003d google_auto_suggestions_response(q, user_agent, url_prefix)\n",
        "        result \u003d json.loads(response.content.decode(\u0027utf-8\u0027))\n",
        "        return result[1]\n",
        "    except Exception as e:\n",
        "        print(f\"{e}\")\n",
        "        print(\"Returning raw response\")\n",
        "        return response\n",
        "\n",
        "query_format_1 \u003d \"why are the {demonym} so \"  # space after the \"so\" is important!\n",
        "query_format_2 \u003d \"why are the {demonym} \"  # more hits than so, but many not targeted to PEOPLE\n",
        "query_format_3 \u003d \"why are {demonym} so \" # more hits than so, but many not targeted to PEOPLE \n",
        "\n",
        "\n",
        "query_format \u003d query_format_1\n",
        "\n",
        "def demonym_adjectives_response(demonym):\n",
        "    return google_auto_suggestions_response(q\u003dquery_format.format(demonym\u003ddemonym))\n",
        "\n",
        "def demonym_adjectives_json(demonym):\n",
        "    response \u003d demonym_adjectives_response(demonym)\n",
        "    return json.loads(response.content.decode(\u0027utf-8\u0027))\n",
        "\n",
        "def demonym_adjectives(demonym):\n",
        "    return google_auto_suggestions(q\u003dquery_format.format(demonym\u003ddemonym))\n",
        "    "
      ]
    },
    {
      "cell_type": "code",
      "execution_count": 252,
      "metadata": {
        "ExecuteTime": {
          "end_time": "2020-01-07T23:22:32.629886Z",
          "start_time": "2020-01-07T23:22:32.600770Z"
        },
        "pycharm": {}
      },
      "outputs": [],
      "source": [
        "from py2store import *\n",
        "import os"
      ]
    },
    {
      "cell_type": "code",
      "execution_count": 259,
      "metadata": {
        "ExecuteTime": {
          "end_time": "2020-01-07T23:35:24.029829Z",
          "start_time": "2020-01-07T23:35:23.981588Z"
        },
        "pycharm": {}
      },
      "outputs": [
        {
          "data": {
            "text/plain": [
              "215"
            ]
          },
          "execution_count": 259,
          "metadata": {},
          "output_type": "execute_result"
        }
      ],
      "source": [
        "root \u003d os.path.expanduser(\u0027~/ddir/demonym_adjectives/so/\u0027)\n",
        "s \u003d QuickJsonStore(root)\n",
        "len(s)"
      ]
    },
    {
      "cell_type": "code",
      "execution_count": 254,
      "metadata": {
        "ExecuteTime": {
          "end_time": "2020-01-07T23:27:48.950201Z",
          "start_time": "2020-01-07T23:22:34.660509Z"
        },
        "pycharm": {}
      },
      "outputs": [
        {
          "name": "stdout",
          "output_type": "stream",
          "text": [
            "0: Afghan\n",
            "1: Albanian\n",
            "2: Algerian\n",
            "3: Andorran\n",
            "4: Angolan\n",
            "5: Anguillan\n",
            "6: Antiguans\n",
            "7: Argentine\n",
            "8: Armenian\n",
            "9: Australian\n",
            "10: Austrian\n",
            "11: Azerbaijani\n",
            "12: Bahamian\n",
            "13: Bahraini\n",
            "14: Bangladeshi\n",
            "15: Barbadian\n",
            "16: Belarusian\n",
            "17: Belgian\n",
            "18: Belizean\n",
            "19: Beninese\n",
            "20: Bermudian\n",
            "21: Bhutanese\n",
            "22: Bolivian\n",
            "23: Bosnian\n",
            "24: Motswana\n",
            "25: Brazilian\n",
            "26: British Virgin Islander\n",
            "27: Bruneian\n",
            "28: Bulgarian\n",
            "29: Burkinabe\n",
            "30: Burundian\n",
            "31: Cambodian\n",
            "32: Cameroonian\n",
            "33: Canadian\n",
            "34: Cape Verdian\n",
            "35: Caymanian\n",
            "36: Central African\n",
            "37: Chadian\n",
            "38: Chilean\n",
            "39: Chinese\n",
            "40: Christmas Islander\n",
            "41: Cocos Islander\n",
            "42: Colombian\n",
            "43: Comoran\n",
            "44: Congolese\n",
            "45: Congolese\n",
            "46: Costa Rican\n",
            "47: Ivorian\n",
            "48: Croat\n",
            "49: Cuban\n",
            "50: Cypriot\n",
            "51: Czech\n",
            "52: Dane\n",
            "53: Djibouti\n",
            "54: Dominican\n",
            "55: Dominican\n",
            "56: East Timorese\n",
            "57: Ecuadorean\n",
            "58: Egyptian\n",
            "59: Salvadoran\n",
            "60: English\n",
            "61: Equatorial Guinean\n",
            "62: Eritrean\n",
            "63: Estonian\n",
            "64: Ethiopian\n",
            "65: Falkland Islander\n",
            "66: Fijian\n",
            "67: Finn\n",
            "68: French\n",
            "69: French Guianese\n",
            "70: Gabonese\n",
            "71: Gambian\n",
            "72: Georgian\n",
            "73: German\n",
            "74: Ghanaian\n",
            "75: Gibraltarian\n",
            "76: Greek\n",
            "77: Greenlander\n",
            "78: Grenadian\n",
            "79: Guadeloupean\n",
            "80: Guatemalan\n",
            "81: Channel Islander\n",
            "82: Guinean\n",
            "83: Guinea-Bissauan\n",
            "84: Guyanese\n",
            "85: Haitian\n",
            "86: Honduran\n",
            "87: Hong Kong Chinese\n",
            "88: Hungarian\n",
            "89: Icelander\n",
            "90: Indian\n",
            "91: Indonesian\n",
            "92: Iranian\n",
            "93: Iraqi\n",
            "94: Irishman or Irishwoman or Irish\n",
            "95: Manxman\n",
            "96: Israeli\n",
            "97: Italian\n",
            "98: Jamaican\n",
            "99: Japanese\n",
            "100: Jordanian\n",
            "101: Kazakhstani\n",
            "102: Kenyan\n",
            "103: I-Kiribati\n",
            "104: North Korean\n",
            "105: South Korean\n",
            "106: Kuwaiti\n",
            "107: Kyrgyz\n",
            "108: Laotian\n",
            "109: Latvian\n",
            "110: Lebanese\n",
            "111: Mosotho\n",
            "112: Liberian\n",
            "113: Libyan\n",
            "114: Liechtensteiner\n",
            "115: Lithuanian\n",
            "116: Luxembourger\n",
            "117: Macedonian\n",
            "118: Malagasy\n",
            "119: Malawian\n",
            "120: Malaysian\n",
            "121: Maldivan\n",
            "122: Malian\n",
            "123: Maltese\n",
            "124: Marshallese\n",
            "125: Martiniquais\n",
            "126: Mauritanian\n",
            "127: Mauritian\n",
            "128: Mahorais\n",
            "129: Micronesian\n",
            "130: Moldovan\n",
            "131: Monegasque\n",
            "132: Mongolian\n",
            "133: Montserratian\n",
            "134: Moroccan\n",
            "135: Mozambican\n",
            "136: Burmese\n",
            "137: Namibian\n",
            "138: Nauruan\n",
            "139: Nepalese\n",
            "140: Netherlander  or Dutch\n",
            "141: Dutch Antillean\n",
            "142: New Zealander\n",
            "143: Nicaraguan\n",
            "144: Nigerien\n",
            "145: Nigerian\n",
            "146: Norwegian\n",
            "147: Omani\n",
            "148: Pakistani\n",
            "149: Palauan\n",
            "150: Palestinian\n",
            "151: Panamanian\n",
            "152: Papua New Guinean\n",
            "153: Paraguayan\n",
            "154: Peruvian\n",
            "155: Filipino\n",
            "156: Pole\n",
            "157: Portuguese\n",
            "158: Puerto Rican\n",
            "159: Qatari\n",
            "160: Reunionese\n",
            "161: Romanian\n",
            "162: Russian\n",
            "163: Rwandan\n",
            "164: Saint Helenian\n",
            "165: Saint Lucian\n",
            "166: Saint Vincentian\n",
            "167: Samoan\n",
            "168: San Marinese\n",
            "169: Sao Tomean\n",
            "170: Saudi\n",
            "171: Scottish\n",
            "172: Senegalese\n",
            "173: Serbian\n",
            "174: Seychellois\n",
            "175: Sierra Leonean\n",
            "176: Singaporean\n",
            "177: Slovak\n",
            "178: Slovene\n",
            "179: Solomon Islander\n",
            "180: Somali\n",
            "181: South African\n",
            "182: Spaniard\n",
            "183: Sri Lankan\n",
            "184: Sudanese\n",
            "185: Surinamer\n",
            "186: Swazi\n",
            "187: Swede\n",
            "188: Swiss\n",
            "189: Syrian\n",
            "190: Taiwanese\n",
            "191: Tajik\n",
            "192: Tanzanian\n",
            "193: Thai\n",
            "194: Togolese\n",
            "195: Tongan\n",
            "196: Trinidadian\n",
            "197: Tunisian\n",
            "198: Turk\n",
            "199: Turkmen\n",
            "200: Tuvaluan\n",
            "201: Ugandan\n",
            "202: Ukrainian\n",
            "203: Emirati\n",
            "204: British\n",
            "205: American\n",
            "206: Uruguayan\n",
            "207: Uzbek\n",
            "208: Ni-Vanuatu\n",
            "209: Citizen of the Holy See\n",
            "210: Venezuelan\n",
            "211: Vietnamese\n",
            "212: Virgin Islander\n",
            "213: Welsh\n",
            "214: Yemeni\n",
            "215: Zambian\n",
            "216: Zimbabwean\n"
          ]
        }
      ],
      "source": [
        "import time\n",
        "\n",
        "for i, demonym in enumerate(df[\u0027demonym\u0027]):\n",
        "    print(f\"{i}: {demonym}\")\n",
        "    s[demonym] \u003d demonym_adjectives_json(demonym)\n",
        "    time.sleep(0.5 + 1.5 * random.random())"
      ]
    },
    {
      "cell_type": "code",
      "execution_count": 515,
      "metadata": {
        "ExecuteTime": {
          "end_time": "2020-01-08T17:10:14.723081Z",
          "start_time": "2020-01-08T17:10:14.533687Z"
        },
        "pycharm": {}
      },
      "outputs": [
        {
          "data": {
            "text/plain": [
              "[\u0027why are the Serbian so \u0027,\n",
              " [\u0027why serbian so tall\u0027],\n",
              " [\u0027\u0027],\n",
              " [],\n",
              " {\u0027google:clientdata\u0027: {\u0027bpc\u0027: False, \u0027tlw\u0027: False},\n",
              "  \u0027google:suggestrelevance\u0027: [600],\n",
              "  \u0027google:suggesttype\u0027: [\u0027QUERY\u0027],\n",
              "  \u0027google:verbatimrelevance\u0027: 851}]"
            ]
          },
          "execution_count": 515,
          "metadata": {},
          "output_type": "execute_result"
        }
      ],
      "source": [
        "demonym \u003d \u0027Serbian\u0027\n",
        "t \u003d demonym_adjectives_json(demonym)\n",
        "t"
      ]
    },
    {
      "cell_type": "code",
      "execution_count": 517,
      "metadata": {
        "ExecuteTime": {
          "end_time": "2020-01-08T17:10:48.140908Z",
          "start_time": "2020-01-08T17:10:48.105707Z"
        },
        "pycharm": {}
      },
      "outputs": [
        {
          "data": {
            "text/plain": [
              "[\u0027why are the Serbian so \u0027,\n",
              " [\u0027why serbian so tall\u0027],\n",
              " [\u0027\u0027],\n",
              " [],\n",
              " {\u0027google:clientdata\u0027: {\u0027bpc\u0027: False, \u0027tlw\u0027: False},\n",
              "  \u0027google:suggestrelevance\u0027: [600],\n",
              "  \u0027google:suggesttype\u0027: [\u0027QUERY\u0027],\n",
              "  \u0027google:verbatimrelevance\u0027: 851}]"
            ]
          },
          "execution_count": 517,
          "metadata": {},
          "output_type": "execute_result"
        }
      ],
      "source": [
        "s[\u0027Serbian\u0027]"
      ]
    },
    {
      "cell_type": "code",
      "execution_count": null,
      "metadata": {
        "pycharm": {}
      },
      "outputs": [],
      "source": []
    },
    {
      "cell_type": "code",
      "execution_count": null,
      "metadata": {
        "pycharm": {}
      },
      "outputs": [],
      "source": []
    },
    {
      "cell_type": "code",
      "execution_count": 86,
      "metadata": {
        "ExecuteTime": {
          "end_time": "2020-01-07T19:45:39.109154Z",
          "start_time": "2020-01-07T19:45:38.555380Z"
        },
        "pycharm": {}
      },
      "outputs": [],
      "source": []
    },
    {
      "cell_type": "code",
      "execution_count": null,
      "metadata": {
        "pycharm": {}
      },
      "outputs": [],
      "source": []
    }
  ],
  "metadata": {
    "kernelspec": {
      "display_name": "Python 3",
      "language": "python",
      "name": "python3"
    },
    "language_info": {
      "codemirror_mode": {
        "name": "ipython",
        "version": 3
      },
      "file_extension": ".py",
      "mimetype": "text/x-python",
      "name": "python",
      "nbconvert_exporter": "python",
      "pygments_lexer": "ipython3",
      "version": "3.7.4"
    },
    "latex_envs": {
      "LaTeX_envs_menu_present": true,
      "autoclose": false,
      "autocomplete": true,
      "bibliofile": "biblio.bib",
      "cite_by": "apalike",
      "current_citInitial": 1,
      "eqLabelWithNumbers": true,
      "eqNumInitial": 1,
      "hotkeys": {
        "equation": "Ctrl-E",
        "itemize": "Ctrl-I"
      },
      "labels_anchors": false,
      "latex_user_defs": false,
      "report_style_numbering": false,
      "user_envs_cfg": false
    },
    "toc": {
      "base_numbering": 1,
      "nav_menu": {},
      "number_sections": true,
      "sideBar": true,
      "skip_h1_title": false,
      "title_cell": "Table of Contents",
      "title_sidebar": "Contents",
      "toc_cell": false,
      "toc_position": {},
      "toc_section_display": true,
      "toc_window_display": false
    }
  },
  "nbformat": 4,
  "nbformat_minor": 2
}